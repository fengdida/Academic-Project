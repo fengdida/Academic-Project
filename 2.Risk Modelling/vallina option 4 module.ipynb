{
 "cells": [
  {
   "cell_type": "code",
   "execution_count": 1,
   "metadata": {},
   "outputs": [],
   "source": [
    "import numpy as np\n",
    "from scipy.stats import norm\n",
    "\n",
    "def BachelierCall(S0 ,sigma , K, T):\n",
    "    return (S0-K)*norm.cdf((S0-K)/(S0*sigma*np.sqrt(T)))+S0*sigma*np.sqrt(T)*norm.pdf((S0-K)/(S0*sigma*np.sqrt(T)))"
   ]
  },
  {
   "cell_type": "code",
   "execution_count": 2,
   "metadata": {},
   "outputs": [
    {
     "data": {
      "text/plain": [
       "17.697946413652"
      ]
     },
     "execution_count": 2,
     "metadata": {},
     "output_type": "execute_result"
    }
   ],
   "source": [
    "S0=100\n",
    "sigma=0.4\n",
    "T=2.0\n",
    "r=0.05\n",
    "K = S0 * np.exp(r*T)\n",
    "F= S0 * np.exp(r*T)\n",
    "BachelierCall(S0 , sigma, K, T)"
   ]
  },
  {
   "cell_type": "code",
   "execution_count": 9,
   "metadata": {},
   "outputs": [],
   "source": [
    "def BachelierPut(S0 ,sigma , K, T):\n",
    "    return (K-S0)*norm.cdf((K-S0)/(S0*sigma*np.sqrt(T)))+S0*sigma*np.sqrt(T)*norm.pdf((K-S0)/(S0*sigma*np.sqrt(T)))"
   ]
  },
  {
   "cell_type": "code",
   "execution_count": 4,
   "metadata": {},
   "outputs": [
    {
     "data": {
      "text/plain": [
       "28.215038221216766"
      ]
     },
     "execution_count": 4,
     "metadata": {},
     "output_type": "execute_result"
    }
   ],
   "source": [
    "BachelierPut(S0 , sigma, K, T)"
   ]
  },
  {
   "cell_type": "code",
   "execution_count": 10,
   "metadata": {},
   "outputs": [],
   "source": [
    "def BlackScholesCall(S, K, r, sigma, T):\n",
    "    d1 = (np.log(S/K)+(r+sigma**2/2)*T) / (sigma*np.sqrt(T))\n",
    "    d2 = d1 - sigma*np.sqrt(T)\n",
    "    return S*norm.cdf(d1) - K*np.exp(-r*T)*norm.cdf(d2)"
   ]
  },
  {
   "cell_type": "code",
   "execution_count": 6,
   "metadata": {},
   "outputs": [
    {
     "data": {
      "text/plain": [
       "22.270258921047855"
      ]
     },
     "execution_count": 6,
     "metadata": {},
     "output_type": "execute_result"
    }
   ],
   "source": [
    "BlackScholesCall(S0,K,r,sigma,T)"
   ]
  },
  {
   "cell_type": "code",
   "execution_count": 11,
   "metadata": {},
   "outputs": [],
   "source": [
    "def BlackScholesPut(S, K, r, sigma, T):\n",
    "    d1 = (np.log(S/K)+(r+sigma**2/2)*T) / (sigma*np.sqrt(T))\n",
    "    d2 = d1 - sigma*np.sqrt(T)\n",
    "    return K*np.exp(-r*T)*norm.cdf(-d2) - S*norm.cdf(-d1)"
   ]
  },
  {
   "cell_type": "code",
   "execution_count": 8,
   "metadata": {},
   "outputs": [
    {
     "data": {
      "text/plain": [
       "22.270258921047848"
      ]
     },
     "execution_count": 8,
     "metadata": {},
     "output_type": "execute_result"
    }
   ],
   "source": [
    "BlackScholesPut(S0,K,r,sigma,T)"
   ]
  },
  {
   "cell_type": "code",
   "execution_count": 7,
   "metadata": {},
   "outputs": [],
   "source": [
    "\n",
    "def Black76Call(F, K, r, sigma, T):\n",
    "    d1=(np.log(F/K)+0.5*sigma**2*T)/(sigma*np.sqrt(T))\n",
    "    d2=d1-sigma*np.sqrt(T)\n",
    "    D=np.exp(-r*T)\n",
    "    return D*(F*norm.cdf(d1)-K*norm.cdf(d2))"
   ]
  },
  {
   "cell_type": "code",
   "execution_count": 14,
   "metadata": {},
   "outputs": [
    {
     "data": {
      "text/plain": [
       "22.270258921047837"
      ]
     },
     "execution_count": 14,
     "metadata": {},
     "output_type": "execute_result"
    }
   ],
   "source": [
    "Black76Call(F,K,r,sigma,T)"
   ]
  },
  {
   "cell_type": "code",
   "execution_count": 13,
   "metadata": {},
   "outputs": [],
   "source": [
    "def Black76Put(F, K, r, sigma, T):\n",
    "    d1=(np.log(F/K)+0.5*sigma**2*T)/(sigma*np.sqrt(T))\n",
    "    d2=d1-sigma*np.sqrt(T)\n",
    "    D=np.exp(-r*T)\n",
    "    return D*(K*norm.cdf(-d2)-F*norm.cdf(-d1))"
   ]
  },
  {
   "cell_type": "code",
   "execution_count": 16,
   "metadata": {},
   "outputs": [
    {
     "data": {
      "text/plain": [
       "22.270258921047848"
      ]
     },
     "execution_count": 16,
     "metadata": {},
     "output_type": "execute_result"
    }
   ],
   "source": [
    "Black76Put(F, K, r, sigma, T)"
   ]
  },
  {
   "cell_type": "code",
   "execution_count": 9,
   "metadata": {},
   "outputs": [],
   "source": [
    "def Black76Asset(F, K, r, sigma, T):\n",
    "    d1=(np.log(F/K)+0.5*sigma**2*T)/(sigma*np.sqrt(T))\n",
    "    d2=d1-sigma*np.sqrt(T)\n",
    "    D=np.exp(-r*T)\n",
    "    return D*F*norm.cdf(d1)"
   ]
  },
  {
   "cell_type": "code",
   "execution_count": 5,
   "metadata": {},
   "outputs": [],
   "source": [
    "def DispalcedCall(F0,K,r,sigma,T,beta):\n",
    "    F=F0/beta\n",
    "    K=K+(1-beta)/beta*F0\n",
    "    sigma=beta*sigma\n",
    "    return Black76Call(F,K,r,sigma,T)"
   ]
  },
  {
   "cell_type": "code",
   "execution_count": 10,
   "metadata": {},
   "outputs": [],
   "source": [
    "def DispalcedAsset(F0,K,r,sigma,T,beta):\n",
    "    F=F0/beta\n",
    "    K=K+(1-beta)/beta*F0\n",
    "    sigma=beta*sigma\n",
    "    return Black76Asset(F,K,r,sigma,T)"
   ]
  },
  {
   "cell_type": "code",
   "execution_count": 13,
   "metadata": {},
   "outputs": [
    {
     "data": {
      "text/plain": [
       "132.78985142265336"
      ]
     },
     "execution_count": 13,
     "metadata": {},
     "output_type": "execute_result"
    }
   ],
   "source": [
    "DispalcedAsset(F0=109,K=100,r=0.0183,sigma=0.1,T=5,beta=0.5)"
   ]
  },
  {
   "cell_type": "code",
   "execution_count": 8,
   "metadata": {},
   "outputs": [
    {
     "data": {
      "text/plain": [
       "22.492583203656977"
      ]
     },
     "execution_count": 8,
     "metadata": {},
     "output_type": "execute_result"
    }
   ],
   "source": [
    "beta=0.5\n",
    "DispalcedCall(F,K,r,sigma,T,beta)"
   ]
  },
  {
   "cell_type": "code",
   "execution_count": 15,
   "metadata": {},
   "outputs": [],
   "source": [
    "def DispalcedPut(F0,K,r,sigma,T,beta):\n",
    "    F=F0/beta\n",
    "    K=K+(1-beta)/beta*F0\n",
    "    sigma=beta*sigma\n",
    "    return Black76Put(F,K,r,sigma,T)"
   ]
  },
  {
   "cell_type": "code",
   "execution_count": 25,
   "metadata": {},
   "outputs": [
    {
     "data": {
      "text/plain": [
       "22.270258921047837"
      ]
     },
     "execution_count": 25,
     "metadata": {},
     "output_type": "execute_result"
    }
   ],
   "source": [
    "DispalcedCall(F,K,r,sigma,T,beta)"
   ]
  },
  {
   "cell_type": "code",
   "execution_count": 16,
   "metadata": {},
   "outputs": [],
   "source": [
    "from scipy.optimize import brentq\n",
    "\n",
    "def impliedCallVolatility(S, K, r, price, T):\n",
    "    impliedVol = brentq(lambda x: price -\n",
    "                        BlackScholesCall(S, K, r, x, T),\n",
    "                        1e-9, 1)\n",
    "\n",
    "    return impliedVol\n",
    "\n",
    "def impliedPutVolatility(S, K, r, price, T):\n",
    "    impliedVol = brentq(lambda x: price -\n",
    "                        BlackScholesPut(S, K, r, x, T),\n",
    "                        1e-9, 1)\n",
    "\n",
    "    return impliedVol"
   ]
  },
  {
   "cell_type": "code",
   "execution_count": 2,
   "metadata": {},
   "outputs": [],
   "source": [
    "import pandas as pd\n",
    "google_c=pd.read_csv('goog_call.csv')\n",
    "google_p=pd.read_csv('goog_put.csv')\n",
    "rf=pd.read_csv('discount.csv')"
   ]
  },
  {
   "cell_type": "code",
   "execution_count": 4,
   "metadata": {},
   "outputs": [
    {
     "data": {
      "text/plain": [
       "<matplotlib.collections.PathCollection at 0x20eb84e8b00>"
      ]
     },
     "execution_count": 4,
     "metadata": {},
     "output_type": "execute_result"
    },
    {
     "data": {
      "image/png": "[encoded data removed]",
      "text/plain": [
       "<Figure size 432x288 with 1 Axes>"
      ]
     },
     "metadata": {},
     "output_type": "display_data"
    }
   ],
   "source": [
    "\n",
    "import matplotlib.pyplot as plt\n",
    "plt.scatter(rf['Day'],rf['Rate (%)'])"
   ]
  },
  {
   "cell_type": "code",
   "execution_count": 31,
   "metadata": {},
   "outputs": [
    {
     "data": {
      "text/plain": [
       "Timedelta('505 days 00:00:00')"
      ]
     },
     "execution_count": 31,
     "metadata": {},
     "output_type": "execute_result"
    }
   ],
   "source": [
    "pd.to_datetime(google_c['expiry'][0],format='%Y%m%d')-pd.to_datetime(google_c['date'][0],format='%Y%m%d')"
   ]
  },
  {
   "cell_type": "code",
   "execution_count": 5,
   "metadata": {},
   "outputs": [],
   "source": [
    "rate=rf['Rate (%)'][12]-rf['Rate (%)'][11]\n",
    "day=rf['Day'][12]-rf['Day'][11]\n",
    "rf_505=rate/day*(505-rf['Day'][11])+rf['Rate (%)'][11]"
   ]
  },
  {
   "cell_type": "code",
   "execution_count": 200,
   "metadata": {},
   "outputs": [
    {
     "data": {
      "text/html": [
       "<div>\n",
       "<style scoped>\n",
       "    .dataframe tbody tr th:only-of-type {\n",
       "        vertical-align: middle;\n",
       "    }\n",
       "\n",
       "    .dataframe tbody tr th {\n",
       "        vertical-align: top;\n",
       "    }\n",
       "\n",
       "    .dataframe thead th {\n",
       "        text-align: right;\n",
       "    }\n",
       "</style>\n",
       "<table border=\"1\" class=\"dataframe\">\n",
       "  <thead>\n",
       "    <tr style=\"text-align: right;\">\n",
       "      <th></th>\n",
       "      <th>date</th>\n",
       "      <th>expiry</th>\n",
       "      <th>strike</th>\n",
       "      <th>best_bid</th>\n",
       "      <th>best_offer</th>\n",
       "    </tr>\n",
       "  </thead>\n",
       "  <tbody>\n",
       "    <tr>\n",
       "      <th>0</th>\n",
       "      <td>20130830</td>\n",
       "      <td>20150117</td>\n",
       "      <td>320.0</td>\n",
       "      <td>525.3</td>\n",
       "      <td>528.8</td>\n",
       "    </tr>\n",
       "    <tr>\n",
       "      <th>1</th>\n",
       "      <td>20130830</td>\n",
       "      <td>20150117</td>\n",
       "      <td>340.0</td>\n",
       "      <td>505.8</td>\n",
       "      <td>509.2</td>\n",
       "    </tr>\n",
       "    <tr>\n",
       "      <th>2</th>\n",
       "      <td>20130830</td>\n",
       "      <td>20150117</td>\n",
       "      <td>350.0</td>\n",
       "      <td>496.0</td>\n",
       "      <td>499.2</td>\n",
       "    </tr>\n",
       "    <tr>\n",
       "      <th>3</th>\n",
       "      <td>20130830</td>\n",
       "      <td>20150117</td>\n",
       "      <td>360.0</td>\n",
       "      <td>486.3</td>\n",
       "      <td>489.4</td>\n",
       "    </tr>\n",
       "    <tr>\n",
       "      <th>4</th>\n",
       "      <td>20130830</td>\n",
       "      <td>20150117</td>\n",
       "      <td>370.0</td>\n",
       "      <td>476.5</td>\n",
       "      <td>479.7</td>\n",
       "    </tr>\n",
       "  </tbody>\n",
       "</table>\n",
       "</div>"
      ],
      "text/plain": [
       "       date    expiry  strike  best_bid  best_offer\n",
       "0  20130830  20150117   320.0     525.3       528.8\n",
       "1  20130830  20150117   340.0     505.8       509.2\n",
       "2  20130830  20150117   350.0     496.0       499.2\n",
       "3  20130830  20150117   360.0     486.3       489.4\n",
       "4  20130830  20150117   370.0     476.5       479.7"
      ]
     },
     "execution_count": 200,
     "metadata": {},
     "output_type": "execute_result"
    }
   ],
   "source": [
    "google_c.head()"
   ]
  },
  {
   "cell_type": "code",
   "execution_count": 20,
   "metadata": {},
   "outputs": [],
   "source": [
    "s=846.9\n",
    "T=505/365\n",
    "r=rf_505/100\n",
    "vol2=[]\n",
    "for i,k in zip(google_c.index[google_c['strike']>s],google_c['strike'][google_c['strike']>s]):\n",
    "    price=(google_c['best_bid'][i]+google_c['best_offer'][i])/2\n",
    "    vol2.append(impliedCallVolatility(s,k,r,price,T)) "
   ]
  },
  {
   "cell_type": "code",
   "execution_count": 21,
   "metadata": {},
   "outputs": [],
   "source": [
    "s=846.9\n",
    "T=505/365\n",
    "r=rf_505/100\n",
    "vol1=[]\n",
    "for i,k in enumerate(google_p['strike'][google_p['strike']<s]):\n",
    "    price=(google_p['best_bid'][i]+google_p['best_offer'][i])/2\n",
    "    vol1.append(impliedPutVolatility(s,k,r,price,T))"
   ]
  },
  {
   "cell_type": "code",
   "execution_count": 26,
   "metadata": {
    "scrolled": true
   },
   "outputs": [
    {
     "data": {
      "text/plain": [
       "<matplotlib.collections.PathCollection at 0x20eb9863208>"
      ]
     },
     "execution_count": 26,
     "metadata": {},
     "output_type": "execute_result"
    },
    {
     "data": {
      "image/png": "[encoded data removed]",
      "text/plain": [
       "<Figure size 432x288 with 1 Axes>"
      ]
     },
     "metadata": {},
     "output_type": "display_data"
    }
   ],
   "source": [
    "vol=vol1+vol2\n",
    "plt.scatter(google_c['strike'],vol,c='r')"
   ]
  },
  {
   "cell_type": "code",
   "execution_count": 39,
   "metadata": {},
   "outputs": [],
   "source": [
    "K_vol=pd.DataFrame(google_c['strike'])\n",
    "K_vol['vol']=vol\n",
    "K_vol.to_csv('K_vol.csv')"
   ]
  },
  {
   "cell_type": "code",
   "execution_count": 24,
   "metadata": {},
   "outputs": [
    {
     "data": {
      "text/plain": [
       "[<matplotlib.lines.Line2D at 0x20eb97fd240>]"
      ]
     },
     "execution_count": 24,
     "metadata": {},
     "output_type": "execute_result"
    },
    {
     "data": {
      "image/png": "[encoded data removed]",
      "text/plain": [
       "<Figure size 432x288 with 1 Axes>"
      ]
     },
     "metadata": {},
     "output_type": "display_data"
    }
   ],
   "source": [
    "sigma=(vol1[-1]+vol2[0])/2\n",
    "strike=np.linspace(300,1400,1100)\n",
    "imvol_list_1=[]\n",
    "beta=1\n",
    "s=846.9\n",
    "T=505/365\n",
    "r=rf_505/100\n",
    "F0=s*np.exp(r*T)\n",
    "for i in strike:\n",
    "    price=DispalcedCall(F0,i,r,sigma,T,beta)\n",
    "    imvol_list_1.append(impliedCallVolatility(s, i, r, price, T))\n",
    "plt.grid()\n",
    "plt.scatter(google_c['strike'],vol,c='r')\n",
    "plt.plot(strike,imvol_list_1)"
   ]
  },
  {
   "cell_type": "code",
   "execution_count": 25,
   "metadata": {},
   "outputs": [
    {
     "data": {
      "text/plain": [
       "0.25860610287551256"
      ]
     },
     "execution_count": 25,
     "metadata": {},
     "output_type": "execute_result"
    }
   ],
   "source": [
    "sigma"
   ]
  },
  {
   "cell_type": "code",
   "execution_count": 28,
   "metadata": {},
   "outputs": [],
   "source": [
    "strike=np.linspace(300,1400,1100)\n",
    "beta_list=np.linspace(0.2,1,5)\n",
    "s=846.9\n",
    "T=505/365\n",
    "r=rf_505/100\n",
    "F0=s*np.exp(r*T)\n",
    "imvol_list=[]\n",
    "for beta in beta_list:\n",
    "    imvol=[]\n",
    "    for i in strike:\n",
    "        price=DispalcedCall(F0,i,r,sigma,T,beta)\n",
    "        imvol.append(impliedCallVolatility(s, i, r, price, T))\n",
    "    imvol_list.append(imvol)\n"
   ]
  },
  {
   "cell_type": "code",
   "execution_count": 29,
   "metadata": {},
   "outputs": [
    {
     "data": {
      "text/plain": [
       "<matplotlib.legend.Legend at 0x20eb98f42e8>"
      ]
     },
     "execution_count": 29,
     "metadata": {},
     "output_type": "execute_result"
    },
    {
     "data": {
      "image/png": "[encoded data removed]",
      "text/plain": [
       "<Figure size 432x288 with 1 Axes>"
      ]
     },
     "metadata": {},
     "output_type": "display_data"
    }
   ],
   "source": [
    "imvol_beta=pd.DataFrame(np.transpose(imvol_list),columns=['0.2','0.4','0.6','0.8','1.0'])\n",
    "plt.grid()\n",
    "plt.scatter(google_c['strike'],vol,c='c')\n",
    "for i in imvol_beta.columns:\n",
    "    plt.plot(strike,imvol_beta[i],'--',label=i)\n",
    "plt.legend()\n"
   ]
  },
  {
   "cell_type": "code",
   "execution_count": 31,
   "metadata": {},
   "outputs": [],
   "source": [
    "from scipy.optimize import least_squares\n",
    "s=846.9\n",
    "T=505/365\n",
    "r=rf_505/100\n",
    "F0=s*np.exp(r*T)\n",
    "sigma=(vol1[-1]+vol2[0])/2\n",
    "def disp_cali(x,s,F0,K,r,sigma,T,vol):\n",
    "    err=0.0\n",
    "    for i,v in enumerate(vol):\n",
    "        price=DispalcedCall(F0,K[i],r,sigma,T,x)\n",
    "        imvol=impliedCallVolatility(s, K[i], r, price, T)\n",
    "        err+=(v-imvol)**2\n",
    "    return err\n",
    "\n",
    "initialBeta = 0.8\n",
    "res1 = least_squares(lambda x: disp_cali(x,s,F0,K_vol['strike'].values,r,sigma,T,vol),initialBeta)\n",
    "\n",
    "\n",
    "#plt.grid()\n",
    "#plt.scatter(google_c['strike'],vol,c='r')\n",
    "#plt.plot(strike,imvol_list_1)"
   ]
  },
  {
   "cell_type": "code",
   "execution_count": 32,
   "metadata": {},
   "outputs": [
    {
     "data": {
      "text/plain": [
       " active_mask: array([0.])\n",
       "        cost: 1.7953971820830785e-05\n",
       "         fun: array([0.00599232])\n",
       "        grad: array([8.87379911e-09])\n",
       "         jac: array([[1.4808611e-06]])\n",
       "     message: '`gtol` termination condition is satisfied.'\n",
       "        nfev: 19\n",
       "        njev: 13\n",
       "  optimality: 8.873799112781075e-09\n",
       "      status: 1\n",
       "     success: True\n",
       "           x: array([0.36816832])"
      ]
     },
     "execution_count": 32,
     "metadata": {},
     "output_type": "execute_result"
    }
   ],
   "source": [
    "res1"
   ]
  },
  {
   "cell_type": "code",
   "execution_count": 33,
   "metadata": {},
   "outputs": [
    {
     "data": {
      "text/plain": [
       "<matplotlib.legend.Legend at 0x20eb9991f98>"
      ]
     },
     "execution_count": 33,
     "metadata": {},
     "output_type": "execute_result"
    },
    {
     "data": {
      "image/png": "[encoded data removed]",
      "text/plain": [
       "<Figure size 432x288 with 1 Axes>"
      ]
     },
     "metadata": {},
     "output_type": "display_data"
    }
   ],
   "source": [
    "sigma=(vol1[-1]+vol2[0])/2\n",
    "strike=np.linspace(300,1400,1100)\n",
    "imvol_list_1=[]\n",
    "beta=res1.x[0]\n",
    "s=846.9\n",
    "T=505/365\n",
    "r=rf_505/100\n",
    "F0=s*np.exp(r*T)\n",
    "for i in strike:\n",
    "    price=DispalcedCall(F0,i,r,sigma,T,beta)\n",
    "    imvol_list_1.append(impliedCallVolatility(s, i, r, price, T))\n",
    "plt.grid()\n",
    "plt.scatter(google_c['strike'],vol,c='r')\n",
    "plt.plot(strike,imvol_list_1,label=round(beta,4))\n",
    "plt.legend()"
   ]
  },
  {
   "cell_type": "code",
   "execution_count": 34,
   "metadata": {},
   "outputs": [],
   "source": [
    "def SABR(F, K, T, alpha, beta, rho, nu):\n",
    "    X = K\n",
    "    if F == K:\n",
    "        numer1 = (((1 - beta)**2)/24)*alpha*alpha/(F**(2 - 2*beta))\n",
    "        numer2 = 0.25*rho*beta*nu*alpha/(F**(1 - beta))\n",
    "        numer3 = ((2 - 3*rho*rho)/24)*nu*nu\n",
    "        VolAtm = alpha*(1 + (numer1 + numer2 + numer3)*T)/(F**(1-beta))\n",
    "        sabrsigma = VolAtm\n",
    "    else:\n",
    "        z = (nu/alpha)*((F*X)**(0.5*(1-beta)))*np.log(F/X)\n",
    "        zhi = np.log((((1 - 2*rho*z + z*z)**0.5) + z - rho)/(1 - rho))\n",
    "        numer1 = (((1 - beta)**2)/24)*((alpha*alpha)/((F*X)**(1 - beta)))\n",
    "        numer2 = 0.25*rho*beta*nu*alpha/((F*X)**((1 - beta)/2))\n",
    "        numer3 = ((2 - 3*rho*rho)/24)*nu*nu\n",
    "        numer = alpha*(1 + (numer1 + numer2 + numer3)*T)*z\n",
    "        denom1 = ((1 - beta)**2/24)*(np.log(F/X))**2\n",
    "        denom2 = (((1 - beta)**4)/1920)*((np.log(F/X))**4)\n",
    "        denom = ((F*X)**((1 - beta)/2))*(1 + denom1 + denom2)*zhi\n",
    "        sabrsigma = numer/denom\n",
    "\n",
    "    return sabrsigma"
   ]
  },
  {
   "cell_type": "code",
   "execution_count": 35,
   "metadata": {},
   "outputs": [
    {
     "data": {
      "text/plain": [
       "[<matplotlib.lines.Line2D at 0x20eb9a0d160>]"
      ]
     },
     "execution_count": 35,
     "metadata": {},
     "output_type": "execute_result"
    },
    {
     "data": {
      "image/png": "[encoded data removed]",
      "text/plain": [
       "<Figure size 432x288 with 1 Axes>"
      ]
     },
     "metadata": {},
     "output_type": "display_data"
    }
   ],
   "source": [
    "strike=np.linspace(300,1400,1100)\n",
    "sabr_list=[]\n",
    "beta=0.8\n",
    "alpha=1.0\n",
    "rho=-0.2\n",
    "nu=0.2\n",
    "s=846.9\n",
    "T=505/365\n",
    "r=rf_505/100\n",
    "F0=s*np.exp(r*T)\n",
    "for i in strike:\n",
    "    sabr_list.append(SABR(F0 , i, T, alpha, beta, rho, nu))\n",
    "plt.grid()\n",
    "plt.scatter(google_c['strike'],vol1+vol2,c='r')\n",
    "plt.plot(strike,sabr_list)"
   ]
  },
  {
   "cell_type": "code",
   "execution_count": 36,
   "metadata": {},
   "outputs": [],
   "source": [
    "from scipy.optimize import least_squares\n",
    "\n",
    "s=846.9\n",
    "T=505/365\n",
    "r=rf_505/100\n",
    "F0=s*np.exp(r*T)\n",
    "\n",
    "def sabrcalibration(x, strikes, vols, F, T):\n",
    "    err = 0.0\n",
    "    for i, vol in enumerate(vols):\n",
    "        err += (vol - SABR(F, strikes[i], T,\n",
    "                           x[0], 0.8, x[1], x[2]))**2\n",
    "\n",
    "    return err\n",
    "\n",
    "\n",
    "initialGuess = [0.02, 0.2, 0.1]\n",
    "res = least_squares(lambda x: sabrcalibration(x,\n",
    "                                              K_vol['strike'].values,\n",
    "                                              K_vol['vol'].values,\n",
    "                                              F0,\n",
    "                                              T),\n",
    "                    initialGuess)\n",
    "alpha = res.x[0]\n",
    "rho = res.x[1]\n",
    "nu = res.x[2]\n"
   ]
  },
  {
   "cell_type": "code",
   "execution_count": 37,
   "metadata": {},
   "outputs": [
    {
     "data": {
      "text/plain": [
       " active_mask: array([0., 0., 0.])\n",
       "        cost: 1.1934245247873596e-06\n",
       "         fun: array([0.00154494])\n",
       "        grad: array([2.41345009e-08, 2.72965999e-08, 2.50571348e-08])\n",
       "         jac: array([[1.56216120e-05, 1.76683534e-05, 1.62188080e-05]])\n",
       "     message: 'The maximum number of function evaluations is exceeded.'\n",
       "        nfev: 300\n",
       "        njev: 296\n",
       "  optimality: 2.729659990533516e-08\n",
       "      status: 0\n",
       "     success: False\n",
       "           x: array([ 0.99016842, -0.2838585 ,  0.35351559])"
      ]
     },
     "execution_count": 37,
     "metadata": {},
     "output_type": "execute_result"
    }
   ],
   "source": [
    "res"
   ]
  },
  {
   "cell_type": "code",
   "execution_count": 234,
   "metadata": {},
   "outputs": [
    {
     "data": {
      "text/plain": [
       "<matplotlib.legend.Legend at 0x25105a195f8>"
      ]
     },
     "execution_count": 234,
     "metadata": {},
     "output_type": "execute_result"
    },
    {
     "data": {
      "image/png": "[encoded data removed]",
      "text/plain": [
       "<Figure size 432x288 with 1 Axes>"
      ]
     },
     "metadata": {},
     "output_type": "display_data"
    }
   ],
   "source": [
    "strike=np.linspace(300,1400,1100)\n",
    "sabr_list=[]\n",
    "beta=0.8\n",
    "alpha = res.x[0]\n",
    "rho = res.x[1]\n",
    "nu = res.x[2]\n",
    "s=846.9\n",
    "T=505/365\n",
    "r=rf_505/100\n",
    "F0=s*np.exp(r*T)\n",
    "for i in strike:\n",
    "    sabr_list.append(SABR(F0 , i, T, alpha, beta, rho, nu))\n",
    "plt.grid()\n",
    "plt.scatter(google_c['strike'],vol1+vol2,c='c')\n",
    "plt.plot(strike,sabr_list,'r',label='SABR')\n",
    "plt.plot(strike,imvol_list_1,'y',label='Displaced_difussion')\n",
    "plt.legend()"
   ]
  },
  {
   "cell_type": "code",
   "execution_count": null,
   "metadata": {},
   "outputs": [],
   "source": []
  }
 ],
 "metadata": {
  "kernelspec": {
   "display_name": "Python 3",
   "language": "python",
   "name": "python3"
  },
  "language_info": {
   "codemirror_mode": {
    "name": "ipython",
    "version": 3
   },
   "file_extension": ".py",
   "mimetype": "text/x-python",
   "name": "python",
   "nbconvert_exporter": "python",
   "pygments_lexer": "ipython3",
   "version": "3.6.5"
  }
 },
 "nbformat": 4,
 "nbformat_minor": 2
}
