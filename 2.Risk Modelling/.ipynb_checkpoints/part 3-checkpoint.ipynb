{
 "cells": [
  {
   "cell_type": "markdown",
   "metadata": {},
   "source": [
    "Suppose on 30-Aug-2013, we need to evaluate European derivatives expiring on\n",
    "17-Jan-2015 and paying:\n",
    "1 Payo\u000b",
    " function:\n",
    "S3T\n",
    "+ 2:5 \u0002 log(ST ) + 10:0\n",
    "2 \\Model-free\" integrated variance:\n",
    "\u001b2\n",
    "MFT = E\n",
    "\u0014Z T\n",
    "0\n",
    "\u001b2\n",
    "t dt\n",
    "\u0015\n",
    "Determine the price of these 2 derivative contracts if we use:\n",
    "1 Black-Scholes model (what \u001b should we use?)\n",
    "2 Bachelier model (what \u001b should we use?)\n",
    "3 Static-replication of European payo\u000b",
    " (using the SABR model calibrated\n",
    "in the previous question)"
   ]
  },
  {
   "cell_type": "code",
   "execution_count": 1,
   "metadata": {},
   "outputs": [],
   "source": [
    "from scipy.integrate import quad\n",
    "import numpy as np\n",
    "from scipy.stats import norm"
   ]
  },
  {
   "cell_type": "code",
   "execution_count": 44,
   "metadata": {},
   "outputs": [],
   "source": [
    "def St_BS(S0,r,sigma,T,x):\n",
    "    return S0*np.exp((r-1/2*sigma**2)*T+sigma*np.sqrt(T)*x)"
   ]
  },
  {
   "cell_type": "code",
   "execution_count": 45,
   "metadata": {},
   "outputs": [],
   "source": [
    "def F_StBS(S0,r,sigma,T,x):\n",
    "    S=St_BS(S0,r,sigma,T,x)\n",
    "    return S**3+2.5*np.log(S)+10"
   ]
  },
  {
   "cell_type": "code",
   "execution_count": 46,
   "metadata": {},
   "outputs": [
    {
     "data": {
      "text/plain": [
       "(815521587.27435, 0.00022189074790534058)"
      ]
     },
     "execution_count": 46,
     "metadata": {},
     "output_type": "execute_result"
    }
   ],
   "source": [
    "S0=846.9\n",
    "T=505/365\n",
    "r=0.0041\n",
    "sigma=0.2586\n",
    "quad(lambda x :F_StBS(S0,r,sigma,T,x)*norm.pdf(x),-100,100)"
   ]
  },
  {
   "cell_type": "code",
   "execution_count": 42,
   "metadata": {},
   "outputs": [
    {
     "data": {
      "text/plain": [
       "(772397216.2077124, 4.288353459505222e-05)"
      ]
     },
     "execution_count": 42,
     "metadata": {},
     "output_type": "execute_result"
    }
   ],
   "source": [
    "def St_Bachelier(S0,sigma,T,x):\n",
    "    return S0+S0*sigma*np.sqrt(T)*x\n",
    "def S_Bachelier(S0,sigma,T,x):\n",
    "    S=St_Bachelier(S0,sigma,T,x)\n",
    "    return S**3+2.5*np.log(S)+10\n",
    "quad(lambda x: S_Bachelier(S0,sigma,T,x)*norm.pdf(x),-3.2,3.2)"
   ]
  },
  {
   "cell_type": "code",
   "execution_count": 47,
   "metadata": {},
   "outputs": [],
   "source": [
    "from functools import partial\n",
    "import pandas as pd\n",
    "google_c=pd.read_csv('goog_call.csv')\n",
    "google_p=pd.read_csv('goog_put.csv')\n",
    "rf=pd.read_csv('discount.csv')"
   ]
  },
  {
   "cell_type": "code",
   "execution_count": 48,
   "metadata": {},
   "outputs": [],
   "source": [
    "def SABR(F, K, T, alpha, beta, rho, nu):\n",
    "    X = K\n",
    "    if F == K:\n",
    "        numer1 = (((1 - beta)**2)/24)*alpha*alpha/(F**(2 - 2*beta))\n",
    "        numer2 = 0.25*rho*beta*nu*alpha/(F**(1 - beta))\n",
    "        numer3 = ((2 - 3*rho*rho)/24)*nu*nu\n",
    "        VolAtm = alpha*(1 + (numer1 + numer2 + numer3)*T)/(F**(1-beta))\n",
    "        sabrsigma = VolAtm\n",
    "    else:\n",
    "        z = (nu/alpha)*((F*X)**(0.5*(1-beta)))*np.log(F/X)\n",
    "        zhi = np.log((((1 - 2*rho*z + z*z)**0.5) + z - rho)/(1 - rho))\n",
    "        numer1 = (((1 - beta)**2)/24)*((alpha*alpha)/((F*X)**(1 - beta)))\n",
    "        numer2 = 0.25*rho*beta*nu*alpha/((F*X)**((1 - beta)/2))\n",
    "        numer3 = ((2 - 3*rho*rho)/24)*nu*nu\n",
    "        numer = alpha*(1 + (numer1 + numer2 + numer3)*T)*z\n",
    "        denom1 = ((1 - beta)**2/24)*(np.log(F/X))**2\n",
    "        denom2 = (((1 - beta)**4)/1920)*((np.log(F/X))**4)\n",
    "        denom = ((F*X)**((1 - beta)/2))*(1 + denom1 + denom2)*zhi\n",
    "        sabrsigma = numer/denom\n",
    "\n",
    "    return sabrsigma"
   ]
  },
  {
   "cell_type": "code",
   "execution_count": 53,
   "metadata": {},
   "outputs": [],
   "source": [
    "from scipy.optimize import least_squares\n",
    "K_vol=pd.read_csv('K_vol.csv')\n",
    "s=846.9\n",
    "T=505/365\n",
    "r=0.0041\n",
    "F0=s*np.exp(r*T)\n",
    "\n",
    "def sabrcalibration(x, strikes, vols, F, T):\n",
    "    err = 0.0\n",
    "    for i, vol in enumerate(vols):\n",
    "        err += (vol - SABR(F, strikes[i], T,\n",
    "                           x[0], 0.8, x[1], x[2]))**2\n",
    "\n",
    "    return err\n",
    "\n",
    "\n",
    "initialGuess = [0.02, 0.2, 0.1]\n",
    "res = least_squares(lambda x: sabrcalibration(x,\n",
    "                                              K_vol['strike'].values,\n",
    "                                              K_vol['vol'].values,\n",
    "                                              F0,\n",
    "                                              T),\n",
    "                    initialGuess)\n",
    "alpha = res.x[0]\n",
    "rho = res.x[1]\n",
    "nu = res.x[2]\n"
   ]
  },
  {
   "cell_type": "code",
   "execution_count": 54,
   "metadata": {},
   "outputs": [
    {
     "data": {
      "text/plain": [
       " active_mask: array([0., 0., 0.])\n",
       "        cost: 1.1934249742309847e-06\n",
       "         fun: array([0.00154494])\n",
       "        grad: array([-3.39641025e-08,  2.67859066e-08,  9.09410219e-09])\n",
       "         jac: array([[-2.19840440e-05,  1.73377921e-05,  5.88636613e-06]])\n",
       "     message: 'The maximum number of function evaluations is exceeded.'\n",
       "        nfev: 300\n",
       "        njev: 296\n",
       "  optimality: 3.39641025344862e-08\n",
       "      status: 0\n",
       "     success: False\n",
       "           x: array([ 0.99015767, -0.28380492,  0.35352202])"
      ]
     },
     "execution_count": 54,
     "metadata": {},
     "output_type": "execute_result"
    }
   ],
   "source": [
    "res"
   ]
  },
  {
   "cell_type": "code",
   "execution_count": 62,
   "metadata": {},
   "outputs": [],
   "source": [
    "def Black76Call(F, K, r, sigma, T):\n",
    "    d1=(np.log(F/K)+0.5*sigma**2*T)/(sigma*np.sqrt(T))\n",
    "    d2=d1-sigma*np.sqrt(T)\n",
    "    D=np.exp(-r*T)\n",
    "    return D*(F*norm.cdf(d1)-K*norm.cdf(d2))\n",
    "\n",
    "def Black76Put(F, K, r, sigma, T):\n",
    "    d1=(np.log(F/K)+0.5*sigma**2*T)/(sigma*np.sqrt(T))\n",
    "    d2=d1-sigma*np.sqrt(T)\n",
    "    D=np.exp(-r*T)\n",
    "    return D*(K*norm.cdf(-d2)-F*norm.cdf(-d1))"
   ]
  },
  {
   "cell_type": "code",
   "execution_count": 64,
   "metadata": {},
   "outputs": [],
   "source": [
    "def H_BS(K):\n",
    "    return K**3+2.5*np.log(K)+10\n",
    "def par_BS(K):\n",
    "    return 6*K-2.5/(K**2)\n",
    "def putint(F, r, T, alpha, beta, rho, nu):\n",
    "    return quad(lambda K: par_BS(K)*Black76Put(F, K, r, SABR(F, K, T, alpha, beta, rho, nu), T,),0,F)[0]\n",
    "def callint(F,  r, T, alpha, beta, rho, nu):\n",
    "    return quad(lambda K: par_BS(K)*Black76Call(F, K, r, SABR(F, K, T, alpha, beta, rho, nu), T,),F,np.inf)[0]"
   ]
  },
  {
   "cell_type": "code",
   "execution_count": 72,
   "metadata": {},
   "outputs": [],
   "source": [
    "S0=846.9\n",
    "T=505/365\n",
    "r=0.0041\n",
    "alpha = res.x[0]\n",
    "rho = res.x[1]\n",
    "nu = res.x[2]\n",
    "beta=0.8\n",
    "F=np.exp(r*T)*S0\n",
    "V0=np.exp(-r*T)*H_BS(F)+putint(F,  r, T, alpha, beta, rho, nu)+callint(F,  r, T, alpha, beta, rho, nu)"
   ]
  },
  {
   "cell_type": "code",
   "execution_count": 80,
   "metadata": {},
   "outputs": [
    {
     "data": {
      "text/plain": [
       "102.77085651834217"
      ]
     },
     "execution_count": 80,
     "metadata": {},
     "output_type": "execute_result"
    }
   ],
   "source": [
    "def BachelierCall(S0 ,sigma , K, T):\n",
    "    return (S0-K)*norm.cdf((S0-K)/(S0*sigma*np.sqrt(T)))+S0*sigma*np.sqrt(T)*norm.pdf((S0-K)/(S0*sigma*np.sqrt(T)))\n"
   ]
  },
  {
   "cell_type": "code",
   "execution_count": 81,
   "metadata": {},
   "outputs": [
    {
     "data": {
      "text/plain": [
       "102.77085651834217"
      ]
     },
     "execution_count": 81,
     "metadata": {},
     "output_type": "execute_result"
    }
   ],
   "source": [
    "def BachelierPut(S0 ,sigma , K, T):\n",
    "    return (K-S0)*norm.cdf((K-S0)/(S0*sigma*np.sqrt(T)))+S0*sigma*np.sqrt(T)*norm.pdf((K-S0)/(S0*sigma*np.sqrt(T)))\n"
   ]
  },
  {
   "cell_type": "code",
   "execution_count": 74,
   "metadata": {},
   "outputs": [
    {
     "data": {
      "text/plain": [
       "0.9901576727961305"
      ]
     },
     "execution_count": 74,
     "metadata": {},
     "output_type": "execute_result"
    }
   ],
   "source": [
    "alpha"
   ]
  },
  {
   "cell_type": "code",
   "execution_count": 75,
   "metadata": {},
   "outputs": [
    {
     "data": {
      "text/plain": [
       "-0.2838049247385527"
      ]
     },
     "execution_count": 75,
     "metadata": {},
     "output_type": "execute_result"
    }
   ],
   "source": [
    "rho"
   ]
  },
  {
   "cell_type": "code",
   "execution_count": 76,
   "metadata": {},
   "outputs": [
    {
     "data": {
      "text/plain": [
       "0.35352201697994523"
      ]
     },
     "execution_count": 76,
     "metadata": {},
     "output_type": "execute_result"
    }
   ],
   "source": [
    "nu"
   ]
  },
  {
   "cell_type": "code",
   "execution_count": null,
   "metadata": {},
   "outputs": [],
   "source": []
  }
 ],
 "metadata": {
  "kernelspec": {
   "display_name": "Python 3",
   "language": "python",
   "name": "python3"
  },
  "language_info": {
   "codemirror_mode": {
    "name": "ipython",
    "version": 3
   },
   "file_extension": ".py",
   "mimetype": "text/x-python",
   "name": "python",
   "nbconvert_exporter": "python",
   "pygments_lexer": "ipython3",
   "version": "3.7.6"
  }
 },
 "nbformat": 4,
 "nbformat_minor": 2
}
