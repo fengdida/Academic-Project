{
 "cells": [
  {
   "cell_type": "markdown",
   "metadata": {},
   "source": [
    "## Stochastic Project \n",
    "### Part II"
   ]
  },
  {
   "cell_type": "markdown",
   "metadata": {},
   "source": [
    "On 30-Aug-2013, Google stock price was $846.9. The call and put option\n",
    "prices (bid & offer) are provided in the spreadsheet  \n",
    "goog_call.csv  \n",
    "goog_put.csv  \n",
    "The discount rate on this day is in the file: discount.csv.  \n",
    "\n",
    "Calibrate the following models to match the option prices:  \n",
    "1 Displaced-diffusion model  \n",
    "2 SABR model (fix $\\beta$ = 0.8)  \n",
    "Plot the fitted implied volatility smile against the market data.  \n",
    "\n",
    "Report the model parameters:  \n",
    "1 $\\sigma$, $\\beta$  \n",
    "2 $\\alpha$, $\\rho$, $\\nu$  \n",
    "And discuss how does change $\\beta$ in the displaced-diffusion model and $\\rho$, $\\nu$ in the\n",
    "SABR model affect the shape of the implied volatility smile."
   ]
  },
  {
   "cell_type": "code",
   "execution_count": 1,
   "metadata": {},
   "outputs": [],
   "source": [
    "import numpy as np\n",
    "from scipy.stats import norm"
   ]
  },
  {
   "cell_type": "markdown",
   "metadata": {},
   "source": [
    "#### Definition of option functions"
   ]
  },
  {
   "cell_type": "code",
   "execution_count": 2,
   "metadata": {},
   "outputs": [],
   "source": [
    "def BlackScholesCall(S, K, r, sigma, T):\n",
    "    d1 = (np.log(S/K)+(r+sigma**2/2)*T) / (sigma*np.sqrt(T))\n",
    "    d2 = d1 - sigma*np.sqrt(T)\n",
    "    return S*norm.cdf(d1) - K*np.exp(-r*T)*norm.cdf(d2)"
   ]
  },
  {
   "cell_type": "code",
   "execution_count": 3,
   "metadata": {},
   "outputs": [],
   "source": [
    "def BlackScholesPut(S, K, r, sigma, T):\n",
    "    d1 = (np.log(S/K)+(r+sigma**2/2)*T) / (sigma*np.sqrt(T))\n",
    "    d2 = d1 - sigma*np.sqrt(T)\n",
    "    return K*np.exp(-r*T)*norm.cdf(-d2) - S*norm.cdf(-d1)"
   ]
  },
  {
   "cell_type": "code",
   "execution_count": 4,
   "metadata": {},
   "outputs": [],
   "source": [
    "def Black76Call(F, K, r, sigma, T):\n",
    "    d1=(np.log(F/K)+0.5*sigma**2*T)/(sigma*np.sqrt(T))\n",
    "    d2=d1-sigma*np.sqrt(T)\n",
    "    D=np.exp(-r*T)\n",
    "    return D*(F*norm.cdf(d1)-K*norm.cdf(d2))"
   ]
  },
  {
   "cell_type": "code",
   "execution_count": 5,
   "metadata": {},
   "outputs": [],
   "source": [
    "def Black76Normal(F, K, r, sigma, T):\n",
    "    x=(K-F)/(sigma*F*np.sqrt(T))\n",
    "    return np.exp(-r*T)*((F-K)*norm.cdf(-x)+sigma*np.sqrt(T)*F*norm.pdf(x))"
   ]
  },
  {
   "cell_type": "code",
   "execution_count": 6,
   "metadata": {},
   "outputs": [],
   "source": [
    "def DispalcedCall(F0,K,r,sigma,T,beta):\n",
    "    F=F0/beta\n",
    "    K=K+(1-beta)/beta*F0\n",
    "    sigma=beta*sigma\n",
    "    return Black76Call(F,K,r,sigma,T)"
   ]
  },
  {
   "cell_type": "code",
   "execution_count": 7,
   "metadata": {},
   "outputs": [],
   "source": [
    "def DispalcedPut(F0,K,r,sigma,T,beta):\n",
    "    F=F0/beta\n",
    "    K=K+(1-beta)/beta*F0\n",
    "    sigma=beta*sigma\n",
    "    return Black76Put(F,K,r,sigma,T)"
   ]
  },
  {
   "cell_type": "markdown",
   "metadata": {},
   "source": [
    "#### Definition of a function to solve the implied volatility"
   ]
  },
  {
   "cell_type": "code",
   "execution_count": 8,
   "metadata": {},
   "outputs": [],
   "source": [
    "from scipy.optimize import brentq\n",
    "\n",
    "def impliedCallVolatility(S, K, r, price, T):\n",
    "    impliedVol = brentq(lambda x: price -\n",
    "                        BlackScholesCall(S, K, r, x, T),\n",
    "                        1e-9, 1)\n",
    "\n",
    "    return impliedVol\n",
    "\n",
    "def impliedPutVolatility(S, K, r, price, T):\n",
    "    impliedVol = brentq(lambda x: price -\n",
    "                        BlackScholesPut(S, K, r, x, T),\n",
    "                        1e-9, 1)\n",
    "\n",
    "    return impliedVol"
   ]
  },
  {
   "cell_type": "markdown",
   "metadata": {},
   "source": [
    "#### Data processing"
   ]
  },
  {
   "cell_type": "code",
   "execution_count": 9,
   "metadata": {},
   "outputs": [],
   "source": [
    "import pandas as pd\n",
    "google_c=pd.read_csv('goog_call.csv')\n",
    "google_p=pd.read_csv('goog_put.csv')\n",
    "rf=pd.read_csv('discount.csv')"
   ]
  },
  {
   "cell_type": "markdown",
   "metadata": {},
   "source": [
    "#### Choose the appropriate risk-free rate\n",
    "Find the relationship between the rate and days"
   ]
  },
  {
   "cell_type": "code",
   "execution_count": 10,
   "metadata": {},
   "outputs": [
    {
     "data": {
      "text/plain": [
       "Text(0,0.5,'Rate: %')"
      ]
     },
     "execution_count": 10,
     "metadata": {},
     "output_type": "execute_result"
    }
   ],
   "source": [
    "import matplotlib.pyplot as plt\n",
    "plt.scatter(rf['Day'],rf['Rate (%)'])\n",
    "plt.title('Risk-free Rate vs Days')\n",
    "plt.xlabel('Days')\n",
    "plt.ylabel('Rate: %')"
   ]
  },
  {
   "cell_type": "markdown",
   "metadata": {},
   "source": [
    "Figure out the existing time of google options"
   ]
  },
  {
   "cell_type": "code",
   "execution_count": 11,
   "metadata": {},
   "outputs": [
    {
     "data": {
      "text/plain": [
       "Timedelta('505 days 00:00:00')"
      ]
     },
     "execution_count": 11,
     "metadata": {},
     "output_type": "execute_result"
    }
   ],
   "source": [
    "pd.to_datetime(google_c['expiry'][0],format='%Y%m%d')-pd.to_datetime(google_c['date'][0],format='%Y%m%d')"
   ]
  },
  {
   "cell_type": "markdown",
   "metadata": {},
   "source": [
    "Using linear relationship to figue out the appropriate rate:\n",
    "$$R_f=\\frac{R_h-R_l}{Days_h-Days_l}(Days-Days_l)+Days_l$$"
   ]
  },
  {
   "cell_type": "code",
   "execution_count": 12,
   "metadata": {},
   "outputs": [
    {
     "name": "stdout",
     "output_type": "stream",
     "text": [
      "Rf: 0.4053595604395604\n"
     ]
    }
   ],
   "source": [
    "rate=rf['Rate (%)'][12]-rf['Rate (%)'][11]\n",
    "day=rf['Day'][12]-rf['Day'][11]\n",
    "rf_505=rate/day*(505-rf['Day'][11])+rf['Rate (%)'][11]\n",
    "print('Rf:', rf_505)"
   ]
  },
  {
   "cell_type": "markdown",
   "metadata": {},
   "source": [
    "#### Calculate the realworld market implied volatilities"
   ]
  },
  {
   "cell_type": "code",
   "execution_count": 13,
   "metadata": {},
   "outputs": [
    {
     "data": {
      "text/html": [
       "<div>\n",
       "<style scoped>\n",
       "    .dataframe tbody tr th:only-of-type {\n",
       "        vertical-align: middle;\n",
       "    }\n",
       "\n",
       "    .dataframe tbody tr th {\n",
       "        vertical-align: top;\n",
       "    }\n",
       "\n",
       "    .dataframe thead th {\n",
       "        text-align: right;\n",
       "    }\n",
       "</style>\n",
       "<table border=\"1\" class=\"dataframe\">\n",
       "  <thead>\n",
       "    <tr style=\"text-align: right;\">\n",
       "      <th></th>\n",
       "      <th>date</th>\n",
       "      <th>expiry</th>\n",
       "      <th>strike</th>\n",
       "      <th>best_bid</th>\n",
       "      <th>best_offer</th>\n",
       "    </tr>\n",
       "  </thead>\n",
       "  <tbody>\n",
       "    <tr>\n",
       "      <th>0</th>\n",
       "      <td>20130830</td>\n",
       "      <td>20150117</td>\n",
       "      <td>320.0</td>\n",
       "      <td>525.3</td>\n",
       "      <td>528.8</td>\n",
       "    </tr>\n",
       "    <tr>\n",
       "      <th>1</th>\n",
       "      <td>20130830</td>\n",
       "      <td>20150117</td>\n",
       "      <td>340.0</td>\n",
       "      <td>505.8</td>\n",
       "      <td>509.2</td>\n",
       "    </tr>\n",
       "    <tr>\n",
       "      <th>2</th>\n",
       "      <td>20130830</td>\n",
       "      <td>20150117</td>\n",
       "      <td>350.0</td>\n",
       "      <td>496.0</td>\n",
       "      <td>499.2</td>\n",
       "    </tr>\n",
       "    <tr>\n",
       "      <th>3</th>\n",
       "      <td>20130830</td>\n",
       "      <td>20150117</td>\n",
       "      <td>360.0</td>\n",
       "      <td>486.3</td>\n",
       "      <td>489.4</td>\n",
       "    </tr>\n",
       "    <tr>\n",
       "      <th>4</th>\n",
       "      <td>20130830</td>\n",
       "      <td>20150117</td>\n",
       "      <td>370.0</td>\n",
       "      <td>476.5</td>\n",
       "      <td>479.7</td>\n",
       "    </tr>\n",
       "  </tbody>\n",
       "</table>\n",
       "</div>"
      ],
      "text/plain": [
       "       date    expiry  strike  best_bid  best_offer\n",
       "0  20130830  20150117   320.0     525.3       528.8\n",
       "1  20130830  20150117   340.0     505.8       509.2\n",
       "2  20130830  20150117   350.0     496.0       499.2\n",
       "3  20130830  20150117   360.0     486.3       489.4\n",
       "4  20130830  20150117   370.0     476.5       479.7"
      ]
     },
     "execution_count": 13,
     "metadata": {},
     "output_type": "execute_result"
    }
   ],
   "source": [
    "google_c.head()"
   ]
  },
  {
   "cell_type": "markdown",
   "metadata": {},
   "source": [
    "Market is very limited liquid on the in-the-money options -- market tends to trade at-the-money or out-of-the-money options.\n",
    "\n",
    "This means that we should focus on:\n",
    "- High strikes calls ($K \\geq F$)\n",
    "- Low strikes puts ($K \\leq F$)\n",
    "\n",
    "Using different parts of the two csv files to figure out the market implied volatilities."
   ]
  },
  {
   "cell_type": "code",
   "execution_count": 14,
   "metadata": {},
   "outputs": [],
   "source": [
    "s=846.9\n",
    "T=505/365\n",
    "r=rf_505/100\n",
    "vol2=[]\n",
    "for i,k in zip(google_c.index[google_c['strike']>s],google_c['strike'][google_c['strike']>s]):\n",
    "    price=(google_c['best_bid'][i]+google_c['best_offer'][i])/2\n",
    "    vol2.append(impliedCallVolatility(s,k,r,price,T)) "
   ]
  },
  {
   "cell_type": "code",
   "execution_count": 15,
   "metadata": {},
   "outputs": [],
   "source": [
    "s=846.9\n",
    "T=505/365\n",
    "r=rf_505/100\n",
    "vol1=[]\n",
    "for i,k in enumerate(google_p['strike'][google_p['strike']<s]):\n",
    "    price=(google_p['best_bid'][i]+google_p['best_offer'][i])/2\n",
    "    vol1.append(impliedPutVolatility(s,k,r,price,T))"
   ]
  },
  {
   "cell_type": "code",
   "execution_count": 16,
   "metadata": {
    "scrolled": true
   },
   "outputs": [
    {
     "data": {
      "text/plain": [
       "<matplotlib.legend.Legend at 0x210a01128d0>"
      ]
     },
     "execution_count": 16,
     "metadata": {},
     "output_type": "execute_result"
    },
    {
     "data": {
      "image/png": "[encoded data removed]",
      "text/plain": [
       "<Figure size 432x288 with 1 Axes>"
      ]
     },
     "metadata": {},
     "output_type": "display_data"
    }
   ],
   "source": [
    "vol=vol1+vol2\n",
    "plt.grid()\n",
    "plt.title('Implied Volatilities vs Strike (Volatility Smile)')\n",
    "plt.xlabel('Strike')\n",
    "plt.ylabel('Implied Volatilities')\n",
    "plt.scatter(google_c['strike'],vol,c='r',label='Market')\n",
    "plt.legend()"
   ]
  },
  {
   "cell_type": "markdown",
   "metadata": {},
   "source": [
    "Save the result to a csv file"
   ]
  },
  {
   "cell_type": "code",
   "execution_count": 17,
   "metadata": {},
   "outputs": [],
   "source": [
    "K_vol=pd.DataFrame(google_c['strike'])\n",
    "K_vol['vol']=vol\n",
    "K_vol.to_csv('K_vol.csv')"
   ]
  },
  {
   "cell_type": "markdown",
   "metadata": {},
   "source": [
    "#### Original logmormal model and normal model \n"
   ]
  },
  {
   "cell_type": "code",
   "execution_count": 18,
   "metadata": {},
   "outputs": [
    {
     "name": "stdout",
     "output_type": "stream",
     "text": [
      "At the money vol:  0.25860610287551256\n"
     ]
    }
   ],
   "source": [
    "sigma=(vol1[-1]+vol2[0])/2\n",
    "print('At the money vol: ', sigma)"
   ]
  },
  {
   "cell_type": "code",
   "execution_count": 19,
   "metadata": {},
   "outputs": [
    {
     "data": {
      "text/plain": [
       "<matplotlib.legend.Legend at 0x210a01a6e10>"
      ]
     },
     "execution_count": 19,
     "metadata": {},
     "output_type": "execute_result"
    },
    {
     "data": {
      "image/png": "[encoded data removed]",
      "text/plain": [
       "<Figure size 432x288 with 1 Axes>"
      ]
     },
     "metadata": {},
     "output_type": "display_data"
    }
   ],
   "source": [
    "sigma=(vol1[-1]+vol2[0])/2\n",
    "strike=np.linspace(300,1400,1100)\n",
    "imvol_list_1=[]\n",
    "imvol_list_2=[]\n",
    "beta=1\n",
    "s=846.9\n",
    "T=505/365\n",
    "r=rf_505/100\n",
    "F0=s*np.exp(r*T)\n",
    "for i in strike:\n",
    "    price1=Black76Call(F0,i,r,sigma,T)\n",
    "    imvol_list_1.append(impliedCallVolatility(s, i, r, price1, T))\n",
    "    price2=Black76Normal(F0,i,r,sigma,T)\n",
    "    imvol_list_2.append(impliedCallVolatility(s, i, r, price2, T))\n",
    "plt.grid()\n",
    "plt.scatter(google_c['strike'],vol,c='r',label='Market')\n",
    "plt.plot(strike,imvol_list_1,'b',label='Lognormal model')\n",
    "plt.plot(strike,imvol_list_2,'y',label='Normal model')\n",
    "plt.xlabel('Strike')\n",
    "plt.ylabel('Implied Volatilities')\n",
    "plt.legend()"
   ]
  },
  {
   "cell_type": "markdown",
   "metadata": {},
   "source": [
    "#### Displaced diffusion with different beta"
   ]
  },
  {
   "cell_type": "code",
   "execution_count": 20,
   "metadata": {},
   "outputs": [],
   "source": [
    "strike=np.linspace(300,1400,1100)\n",
    "beta_list=np.linspace(0.2,1,5)\n",
    "s=846.9\n",
    "T=505/365\n",
    "r=rf_505/100\n",
    "F0=s*np.exp(r*T)\n",
    "imvol_list=[]\n",
    "for beta in beta_list:\n",
    "    imvol=[]\n",
    "    for i in strike:\n",
    "        price=DispalcedCall(F0,i,r,sigma,T,beta)\n",
    "        imvol.append(impliedCallVolatility(s, i, r, price, T))\n",
    "    imvol_list.append(imvol)\n"
   ]
  },
  {
   "cell_type": "code",
   "execution_count": 21,
   "metadata": {},
   "outputs": [
    {
     "data": {
      "text/plain": [
       "Text(0,0.5,'Implied Volatilities')"
      ]
     },
     "execution_count": 21,
     "metadata": {},
     "output_type": "execute_result"
    },
    {
     "data": {
      "image/png": "[encoded data removed]",
      "text/plain": [
       "<Figure size 432x288 with 1 Axes>"
      ]
     },
     "metadata": {},
     "output_type": "display_data"
    }
   ],
   "source": [
    "imvol_beta=pd.DataFrame(np.transpose(imvol_list),columns=['0.2','0.4','0.6','0.8','1.0'])\n",
    "plt.grid()\n",
    "plt.scatter(google_c['strike'],vol,c='c')\n",
    "for i in imvol_beta.columns:\n",
    "    plt.plot(strike,imvol_beta[i],'--',label=i)\n",
    "plt.legend()\n",
    "plt.title('Displaced Diffusion Model with different beta')\n",
    "plt.xlabel('Strike')\n",
    "plt.ylabel('Implied Volatilities')\n"
   ]
  },
  {
   "cell_type": "markdown",
   "metadata": {},
   "source": [
    "#### Choose best beta through the least square error"
   ]
  },
  {
   "cell_type": "code",
   "execution_count": 22,
   "metadata": {},
   "outputs": [],
   "source": [
    "from scipy.optimize import least_squares\n",
    "s=846.9\n",
    "T=505/365\n",
    "r=rf_505/100\n",
    "F0=s*np.exp(r*T)\n",
    "sigma=(vol1[-1]+vol2[0])/2\n",
    "def disp_cali(x,s,F0,K,r,sigma,T,vol):\n",
    "    err=0.0\n",
    "    for i,v in enumerate(vol):\n",
    "        price=DispalcedCall(F0,K[i],r,sigma,T,x)\n",
    "        imvol=impliedCallVolatility(s, K[i], r, price, T)\n",
    "        err+=(v-imvol)**2\n",
    "    return err\n",
    "\n",
    "initialBeta = 0.8\n",
    "res1 = least_squares(lambda x: disp_cali(x,s,F0,K_vol['strike'].values,r,sigma,T,vol),initialBeta)\n",
    "\n",
    "\n"
   ]
  },
  {
   "cell_type": "code",
   "execution_count": 23,
   "metadata": {},
   "outputs": [
    {
     "data": {
      "text/plain": [
       " active_mask: array([0.])\n",
       "        cost: 1.7953971820830785e-05\n",
       "         fun: array([0.00599232])\n",
       "        grad: array([8.87379911e-09])\n",
       "         jac: array([[1.4808611e-06]])\n",
       "     message: '`gtol` termination condition is satisfied.'\n",
       "        nfev: 19\n",
       "        njev: 13\n",
       "  optimality: 8.873799112781075e-09\n",
       "      status: 1\n",
       "     success: True\n",
       "           x: array([0.36816832])"
      ]
     },
     "execution_count": 23,
     "metadata": {},
     "output_type": "execute_result"
    }
   ],
   "source": [
    "res1"
   ]
  },
  {
   "cell_type": "code",
   "execution_count": 24,
   "metadata": {},
   "outputs": [
    {
     "data": {
      "text/plain": [
       "<matplotlib.legend.Legend at 0x210a1299748>"
      ]
     },
     "execution_count": 24,
     "metadata": {},
     "output_type": "execute_result"
    },
    {
     "data": {
      "image/png": "[encoded data removed]",
      "text/plain": [
       "<Figure size 432x288 with 1 Axes>"
      ]
     },
     "metadata": {},
     "output_type": "display_data"
    }
   ],
   "source": [
    "sigma=(vol1[-1]+vol2[0])/2\n",
    "strike=np.linspace(300,1400,1100)\n",
    "imvol_list_beta=[]\n",
    "beta=res1.x[0]\n",
    "s=846.9\n",
    "T=505/365\n",
    "r=rf_505/100\n",
    "F0=s*np.exp(r*T)\n",
    "for i in strike:\n",
    "    price=DispalcedCall(F0,i,r,sigma,T,beta)\n",
    "    imvol_list_beta.append(impliedCallVolatility(s, i, r, price, T))\n",
    "plt.grid()\n",
    "plt.scatter(google_c['strike'],vol,c='c',label='Market')\n",
    "plt.plot(strike,imvol_list_beta,'b--',label='beta=%0.3f'%beta)\n",
    "plt.title('Displaced Diffusion Model with optimized beta')\n",
    "plt.xlabel('Strike')\n",
    "plt.ylabel('Implied Volatilities')\n",
    "plt.legend()"
   ]
  },
  {
   "cell_type": "markdown",
   "metadata": {},
   "source": [
    "#### Definition of the SABR model"
   ]
  },
  {
   "cell_type": "code",
   "execution_count": 25,
   "metadata": {},
   "outputs": [],
   "source": [
    "def SABR(F, K, T, alpha, beta, rho, nu):\n",
    "    X = K\n",
    "    if F == K:\n",
    "        numer1 = (((1 - beta)**2)/24)*alpha*alpha/(F**(2 - 2*beta))\n",
    "        numer2 = 0.25*rho*beta*nu*alpha/(F**(1 - beta))\n",
    "        numer3 = ((2 - 3*rho*rho)/24)*nu*nu\n",
    "        VolAtm = alpha*(1 + (numer1 + numer2 + numer3)*T)/(F**(1-beta))\n",
    "        sabrsigma = VolAtm\n",
    "    else:\n",
    "        z = (nu/alpha)*((F*X)**(0.5*(1-beta)))*np.log(F/X)\n",
    "        zhi = np.log((((1 - 2*rho*z + z*z)**0.5) + z - rho)/(1 - rho))\n",
    "        numer1 = (((1 - beta)**2)/24)*((alpha*alpha)/((F*X)**(1 - beta)))\n",
    "        numer2 = 0.25*rho*beta*nu*alpha/((F*X)**((1 - beta)/2))\n",
    "        numer3 = ((2 - 3*rho*rho)/24)*nu*nu\n",
    "        numer = alpha*(1 + (numer1 + numer2 + numer3)*T)*z\n",
    "        denom1 = ((1 - beta)**2/24)*(np.log(F/X))**2\n",
    "        denom2 = (((1 - beta)**4)/1920)*((np.log(F/X))**4)\n",
    "        denom = ((F*X)**((1 - beta)/2))*(1 + denom1 + denom2)*zhi\n",
    "        sabrsigma = numer/denom\n",
    "\n",
    "    return sabrsigma"
   ]
  },
  {
   "cell_type": "markdown",
   "metadata": {},
   "source": [
    "#### Choose the best $\\alpha$ $\\rho$ $\\nu$ through the least square error"
   ]
  },
  {
   "cell_type": "code",
   "execution_count": 30,
   "metadata": {},
   "outputs": [
    {
     "data": {
      "text/plain": [
       " active_mask: array([0., 0., 0.])\n",
       "        cost: 0.0007724709928699056\n",
       "         fun: array([ 2.41913766e-02,  3.62451930e-04,  8.31972645e-03,  1.22478681e-03,\n",
       "       -1.74348989e-03,  1.32541943e-03, -3.02168295e-03, -2.72007783e-03,\n",
       "       -6.28179962e-03, -5.50632720e-03, -4.17019290e-03, -4.07191539e-03,\n",
       "       -7.93550273e-03, -5.62827487e-03, -4.29291303e-03, -4.88484079e-03,\n",
       "       -4.90497332e-03,  1.72633501e-03, -4.72560366e-03, -2.51284448e-03,\n",
       "        3.94036138e-04, -2.69602482e-03, -3.21958327e-03, -2.59390204e-03,\n",
       "       -2.26325289e-03, -1.91708891e-03,  5.78919782e-04,  2.57626641e-04,\n",
       "        9.18951996e-04,  7.84963578e-04, -2.77548996e-04,  3.74159125e-04,\n",
       "        2.78905119e-04,  1.06791154e-03,  1.50279100e-03,  1.97059989e-03,\n",
       "        1.41244351e-03,  1.93876364e-03,  2.29549565e-03,  2.48949169e-03,\n",
       "        3.45234413e-03,  2.75458886e-03,  2.56239460e-03,  2.26177769e-03,\n",
       "        2.00255189e-03,  3.81712990e-03,  2.89366721e-03,  2.59007195e-03,\n",
       "        3.30979478e-03,  2.78951140e-03,  3.27663941e-03,  4.47007055e-03,\n",
       "        3.49551039e-03,  3.10426981e-03,  4.22093534e-03,  3.61859677e-03,\n",
       "        3.84493465e-03,  3.96384199e-03,  3.58512294e-03,  4.27754401e-03,\n",
       "        3.69535878e-03,  3.40281510e-03,  3.65256872e-03,  4.05495415e-03,\n",
       "       -4.19161888e-03, -4.04039432e-03, -3.48556308e-03, -3.28754808e-03,\n",
       "       -4.20058539e-03, -3.69911878e-03, -3.55031143e-03, -2.99744022e-03,\n",
       "       -3.17228495e-03, -2.81563231e-03, -2.68156214e-03, -3.33208210e-03,\n",
       "       -2.21515497e-03, -2.22765569e-03, -2.09854671e-03, -2.07504294e-03,\n",
       "       -3.28316686e-04, -1.79529492e-03, -1.64876752e-03, -7.65469700e-04,\n",
       "        7.50462688e-05,  5.23662411e-05, -1.99229291e-03, -8.43621277e-04,\n",
       "       -1.14294888e-03, -8.74131236e-04, -1.20842664e-03, -7.73383191e-04,\n",
       "       -1.57323229e-03,  6.16359334e-05, -1.17995471e-03, -3.50185466e-05,\n",
       "       -5.12312128e-04,  3.28838223e-04, -1.27313780e-03, -1.51958801e-03,\n",
       "        5.08987252e-04,  1.38795281e-03,  1.03808804e-03,  6.33481670e-04,\n",
       "       -3.98797209e-05, -7.69475405e-04, -1.25111819e-04, -1.54943715e-04,\n",
       "        5.97227449e-04,  9.20365415e-04, -1.38564852e-03, -2.11499639e-03,\n",
       "        1.18943423e-04, -4.13282762e-04,  6.51742712e-05, -2.64672697e-04,\n",
       "       -4.75924920e-04, -5.41863550e-04, -4.33550653e-04,  2.48299790e-03,\n",
       "        3.11694430e-03,  3.23342828e-03])\n",
       "        grad: array([-2.72897970e-09, -7.37331127e-10,  5.06419204e-09])\n",
       "         jac: array([[-2.68167984e-01,  8.99699107e-02, -3.02812550e-01],\n",
       "       [-2.67190140e-01,  8.65527503e-02, -2.83489823e-01],\n",
       "       [-2.66754657e-01,  8.48519243e-02, -2.74193689e-01],\n",
       "       [-2.66351949e-01,  8.31542090e-02, -2.65125729e-01],\n",
       "       [-2.65980065e-01,  8.14582184e-02, -2.56275777e-01],\n",
       "       [-2.65637141e-01,  7.97626190e-02, -2.47634616e-01],\n",
       "       [-2.65321445e-01,  7.80662112e-02, -2.39193916e-01],\n",
       "       [-2.65031323e-01,  7.63678402e-02, -2.30946116e-01],\n",
       "       [-2.64765199e-01,  7.46664479e-02, -2.22884353e-01],\n",
       "       [-2.64521576e-01,  7.29610398e-02, -2.15002421e-01],\n",
       "       [-2.64299024e-01,  7.12506734e-02, -2.07294680e-01],\n",
       "       [-2.64096148e-01,  6.95345066e-02, -1.99756101e-01],\n",
       "       [-2.63911616e-01,  6.78117014e-02, -1.92382075e-01],\n",
       "       [-2.63744131e-01,  6.60815462e-02, -1.85168490e-01],\n",
       "       [-2.63592426e-01,  6.43433146e-02, -1.78111650e-01],\n",
       "       [-2.63455290e-01,  6.25963919e-02, -1.71208270e-01],\n",
       "       [-2.63331525e-01,  6.08401932e-02, -1.64455388e-01],\n",
       "       [-2.63219949e-01,  5.90741523e-02, -1.57850411e-01],\n",
       "       [-2.63119418e-01,  5.72978295e-02, -1.51391044e-01],\n",
       "       [-2.63028797e-01,  5.55107705e-02, -1.45075269e-01],\n",
       "       [-2.62946982e-01,  5.37126139e-02, -1.38901368e-01],\n",
       "       [-2.62872864e-01,  5.19029982e-02, -1.32867824e-01],\n",
       "       [-2.62805358e-01,  5.00816889e-02, -1.26973368e-01],\n",
       "       [-2.62743399e-01,  4.82484251e-02, -1.21216953e-01],\n",
       "       [-2.62685943e-01,  4.64030541e-02, -1.15597710e-01],\n",
       "       [-2.62631942e-01,  4.45454493e-02, -1.10114940e-01],\n",
       "       [-2.62580343e-01,  4.26755473e-02, -1.04768116e-01],\n",
       "       [-2.62530155e-01,  4.07933220e-02, -9.95568708e-02],\n",
       "       [-2.62480352e-01,  3.88987921e-02, -9.44808871e-02],\n",
       "       [-2.62429960e-01,  3.69920954e-02, -8.95400830e-02],\n",
       "       [-2.62377989e-01,  3.50733250e-02, -8.47344063e-02],\n",
       "       [-2.62323450e-01,  3.31426710e-02, -8.00638311e-02],\n",
       "       [-2.62265448e-01,  3.12004313e-02, -7.55285732e-02],\n",
       "       [-2.62203038e-01,  2.92468630e-02, -7.11287260e-02],\n",
       "       [-2.62135297e-01,  2.72823498e-02, -6.68645687e-02],\n",
       "       [-2.62061335e-01,  2.53072456e-02, -6.27362989e-02],\n",
       "       [-2.61980321e-01,  2.33220942e-02, -5.87442257e-02],\n",
       "       [-2.61891402e-01,  2.13273354e-02, -5.48886396e-02],\n",
       "       [-2.61793762e-01,  1.93235427e-02, -5.11697717e-02],\n",
       "       [-2.61686597e-01,  1.73113309e-02, -4.75878678e-02],\n",
       "       [-2.61569183e-01,  1.52913332e-02, -4.41432372e-02],\n",
       "       [-2.61506379e-01,  1.42786317e-02, -4.24723811e-02],\n",
       "       [-2.61440787e-01,  1.32642761e-02, -4.08359468e-02],\n",
       "       [-2.61372227e-01,  1.22483000e-02, -3.92338485e-02],\n",
       "       [-2.61300728e-01,  1.12308450e-02, -3.76661941e-02],\n",
       "       [-2.61226129e-01,  1.02120228e-02, -3.61329392e-02],\n",
       "       [-2.61148378e-01,  9.19189304e-03, -3.46340947e-02],\n",
       "       [-2.61067387e-01,  8.17056373e-03, -3.31696309e-02],\n",
       "       [-2.60983106e-01,  7.14819878e-03, -3.17395367e-02],\n",
       "       [-2.60895435e-01,  6.12480938e-03, -3.03438157e-02],\n",
       "       [-2.60804385e-01,  5.10058925e-03, -2.89825499e-02],\n",
       "       [-2.60709770e-01,  4.07563522e-03, -2.76555121e-02],\n",
       "       [-2.60611635e-01,  3.05004045e-03, -2.63628662e-02],\n",
       "       [-2.60509796e-01,  2.02389434e-03, -2.51044221e-02],\n",
       "       [-2.60404397e-01,  9.97457653e-04, -2.38802880e-02],\n",
       "       [-2.60295182e-01, -2.94335186e-05, -2.26902701e-02],\n",
       "       [-2.60182269e-01, -1.05641037e-03, -2.15344355e-02],\n",
       "       [-2.60065384e-01, -2.08337978e-03, -2.04125568e-02],\n",
       "       [-2.59944655e-01, -3.11039388e-03, -1.93247199e-02],\n",
       "       [-2.59820234e-01, -4.13713977e-03, -1.82707496e-02],\n",
       "       [-2.59691734e-01, -5.16346097e-03, -1.72506161e-02],\n",
       "       [-2.59559423e-01, -6.18929788e-03, -1.62643865e-02],\n",
       "       [-2.59422578e-01, -7.21488148e-03, -1.53116882e-02],\n",
       "       [-2.59281918e-01, -8.23945180e-03, -1.43917985e-02],\n",
       "       [-2.59138964e-01, -9.26172361e-03, -1.35077089e-02],\n",
       "       [-2.58988611e-01, -1.02858283e-02, -1.26542449e-02],\n",
       "       [-2.58835789e-01, -1.13076121e-02, -1.18344836e-02],\n",
       "       [-2.58678932e-01, -1.23283006e-02, -1.10481940e-02],\n",
       "       [-2.58517817e-01, -1.33475475e-02, -1.02946125e-02],\n",
       "       [-2.58352589e-01, -1.43650882e-02, -9.57372040e-03],\n",
       "       [-2.58183215e-01, -1.53812058e-02, -8.88534263e-03],\n",
       "       [-2.58009594e-01, -1.63955465e-02, -8.22936743e-03],\n",
       "       [-2.57831797e-01, -1.74080431e-02, -7.60550052e-03],\n",
       "       [-2.57649861e-01, -1.84185579e-02, -7.01363012e-03],\n",
       "       [-2.57463820e-01, -1.94268487e-02, -6.45361841e-03],\n",
       "       [-2.57079162e-01, -2.14368030e-02, -5.42782992e-03],\n",
       "       [-2.56678108e-01, -2.34366693e-02, -4.52671945e-03],\n",
       "       [-2.56260585e-01, -2.54256018e-02, -3.74823809e-03],\n",
       "       [-2.55826969e-01, -2.74026133e-02, -3.09046730e-03],\n",
       "       [-2.55377337e-01, -2.93668024e-02, -2.55120918e-03],\n",
       "       [-2.54912097e-01, -3.13172005e-02, -2.12839618e-03],\n",
       "       [-2.54431451e-01, -3.32529545e-02, -1.81960873e-03],\n",
       "       [-2.53935771e-01, -3.51732560e-02, -1.62247382e-03],\n",
       "       [-2.53425451e-01, -3.70772146e-02, -1.53453276e-03],\n",
       "       [-2.52900859e-01, -3.89641412e-02, -1.55312009e-03],\n",
       "       [-2.52362438e-01, -4.08332627e-02, -1.67565420e-03],\n",
       "       [-2.51810702e-01, -4.26838249e-02, -1.89941376e-03],\n",
       "       [-2.51246087e-01, -4.45152372e-02, -2.22162530e-03],\n",
       "       [-2.50669101e-01, -4.63268664e-02, -2.63944827e-03],\n",
       "       [-2.50080265e-01, -4.81181275e-02, -3.15003283e-03],\n",
       "       [-2.49480149e-01, -4.98884860e-02, -3.75046209e-03],\n",
       "       [-2.48869291e-01, -5.16374484e-02, -4.43783775e-03],\n",
       "       [-2.48248219e-01, -5.33645954e-02, -5.20917773e-03],\n",
       "       [-2.47617533e-01, -5.50695229e-02, -6.06155023e-03],\n",
       "       [-2.46977819e-01, -5.67518398e-02, -6.99202903e-03],\n",
       "       [-2.46329650e-01, -5.84112536e-02, -7.99762271e-03],\n",
       "       [-2.45673617e-01, -6.00474942e-02, -9.07540508e-03],\n",
       "       [-2.45010268e-01, -6.16603158e-02, -1.02224499e-02],\n",
       "       [-2.44340206e-01, -6.32495321e-02, -1.14358757e-02],\n",
       "       [-2.43664017e-01, -6.48149718e-02, -1.27127916e-02],\n",
       "       [-2.42982225e-01, -6.63565416e-02, -1.40503794e-02],\n",
       "       [-2.42295420e-01, -6.78741392e-02, -1.54458508e-02],\n",
       "       [-2.41604172e-01, -6.93677161e-02, -1.68964528e-02],\n",
       "       [-2.40908973e-01, -7.08372816e-02, -1.83994845e-02],\n",
       "       [-2.40210371e-01, -7.22828452e-02, -1.99522823e-02],\n",
       "       [-2.39508901e-01, -7.37044327e-02, -2.15522945e-02],\n",
       "       [-2.38805048e-01, -7.51021244e-02, -2.31969692e-02],\n",
       "       [-2.38099299e-01, -7.64760487e-02, -2.48838197e-02],\n",
       "       [-2.37392120e-01, -7.78263155e-02, -2.66104601e-02],\n",
       "       [-2.36684000e-01, -7.91530609e-02, -2.83745546e-02],\n",
       "       [-2.35975342e-01, -8.04564767e-02, -3.01738195e-02],\n",
       "       [-2.35266590e-01, -8.17367528e-02, -3.20060253e-02],\n",
       "       [-2.34558161e-01, -8.29941072e-02, -3.38690691e-02],\n",
       "       [-2.33850427e-01, -8.42287559e-02, -3.57608441e-02],\n",
       "       [-2.33143762e-01, -8.54409598e-02, -3.76793686e-02],\n",
       "       [-2.32438551e-01, -8.66309479e-02, -3.96227222e-02],\n",
       "       [-2.31735105e-01, -8.77990350e-02, -4.15890273e-02],\n",
       "       [-2.31033765e-01, -8.89454614e-02, -4.35764957e-02],\n",
       "       [-2.30334826e-01, -9.00705550e-02, -4.55833916e-02],\n",
       "       [-2.29638595e-01, -9.11746044e-02, -4.76080626e-02],\n",
       "       [-2.28945334e-01, -9.22579132e-02, -4.96489182e-02],\n",
       "       [-2.28255330e-01, -9.33208056e-02, -5.17044477e-02]])\n",
       "     message: '`gtol` termination condition is satisfied.'\n",
       "        nfev: 8\n",
       "        njev: 8\n",
       "  optimality: 5.064192044445387e-09\n",
       "      status: 1\n",
       "     success: True\n",
       "           x: array([ 0.99018245, -0.28394292,  0.35346194])"
      ]
     },
     "execution_count": 30,
     "metadata": {},
     "output_type": "execute_result"
    }
   ],
   "source": [
    "from scipy.optimize import least_squares\n",
    "\n",
    "s=846.9\n",
    "T=505/365\n",
    "r=rf_505/100\n",
    "F0=s*np.exp(r*T)\n",
    "\n",
    "def sabrcalibration(x, strikes, vols, F, T):\n",
    "    err = []\n",
    "    for i, vol in enumerate(vols):\n",
    "        err.append( (vol - SABR(F, strikes[i], T,\n",
    "                           x[0], 0.8, x[1], x[2])))\n",
    "\n",
    "    return err\n",
    "\n",
    "\n",
    "initialGuess = [0.02, 0.2, 0.1]\n",
    "res = least_squares(lambda x: sabrcalibration(x,\n",
    "                                              K_vol['strike'].values,\n",
    "                                              K_vol['vol'].values,\n",
    "                                              F0,\n",
    "                                              T),\n",
    "                    initialGuess)\n",
    "alpha = res.x[0]\n",
    "rho = res.x[1]\n",
    "nu = res.x[2]\n",
    "\n",
    "res"
   ]
  },
  {
   "cell_type": "code",
   "execution_count": 27,
   "metadata": {},
   "outputs": [
    {
     "name": "stdout",
     "output_type": "stream",
     "text": [
      "alpha:\t 0.9902\n",
      "rho:\t -0.2839\n",
      "nu:\t 0.3535\n"
     ]
    }
   ],
   "source": [
    "print('alpha:\\t', round(res.x[0],4))\n",
    "print('rho:\\t', round(res.x[1],4))\n",
    "print('nu:\\t', round(res.x[2],4))"
   ]
  },
  {
   "cell_type": "code",
   "execution_count": 31,
   "metadata": {},
   "outputs": [
    {
     "data": {
      "text/plain": [
       "<matplotlib.legend.Legend at 0x210a13930f0>"
      ]
     },
     "execution_count": 31,
     "metadata": {},
     "output_type": "execute_result"
    },
    {
     "data": {
      "image/png": "[encoded data removed]",
      "text/plain": [
       "<Figure size 432x288 with 1 Axes>"
      ]
     },
     "metadata": {},
     "output_type": "display_data"
    }
   ],
   "source": [
    "strike=np.linspace(300,1400,1100)\n",
    "sabr_list=[]\n",
    "beta=0.8\n",
    "alpha = res.x[0]\n",
    "rho = res.x[1]\n",
    "nu = res.x[2]\n",
    "s=846.9\n",
    "T=505/365\n",
    "r=rf_505/100\n",
    "F0=s*np.exp(r*T)\n",
    "for i in strike:\n",
    "    sabr_list.append(SABR(F0 , i, T, alpha, beta, rho, nu))\n",
    "plt.grid()\n",
    "plt.scatter(google_c['strike'],vol,c='c',label='Market')\n",
    "plt.plot(strike,sabr_list,'r--',label='SABR')\n",
    "plt.plot(strike,imvol_list_beta,'b--',label='Displaced_difussion')\n",
    "plt.title('Displaced Diffusion & SABR Model with optimized coefficient')\n",
    "plt.xlabel('Strike')\n",
    "plt.ylabel('Implied Volatilities')\n",
    "plt.legend()"
   ]
  },
  {
   "cell_type": "code",
   "execution_count": null,
   "metadata": {},
   "outputs": [],
   "source": []
  }
 ],
 "metadata": {
  "kernelspec": {
   "display_name": "Python 3",
   "language": "python",
   "name": "python3"
  },
  "language_info": {
   "codemirror_mode": {
    "name": "ipython",
    "version": 3
   },
   "file_extension": ".py",
   "mimetype": "text/x-python",
   "name": "python",
   "nbconvert_exporter": "python",
   "pygments_lexer": "ipython3",
   "version": "3.7.6"
  }
 },
 "nbformat": 4,
 "nbformat_minor": 2
}
