{
 "cells": [
  {
   "cell_type": "code",
   "execution_count": 1,
   "metadata": {},
   "outputs": [],
   "source": [
    "import numpy as np\n",
    "import pandas as pd"
   ]
  },
  {
   "cell_type": "code",
   "execution_count": 2,
   "metadata": {},
   "outputs": [],
   "source": [
    "import yahoo_historical\n",
    "MSFT = yahoo_historical.Fetcher('MSFT', [2014, 7, 1], [2019, 7, 1]).getHistorical()\n",
    "AAPL = yahoo_historical.Fetcher('AAPL', [2014, 7, 1], [2019, 7, 1]).getHistorical()\n",
    "GOOGL = yahoo_historical.Fetcher('GOOGL', [2014, 7, 1], [2019, 7, 1]).getHistorical()"
   ]
  },
  {
   "cell_type": "code",
   "execution_count": 3,
   "metadata": {},
   "outputs": [
    {
     "name": "stderr",
     "output_type": "stream",
     "text": [
      "Using TensorFlow backend.\n"
     ]
    }
   ],
   "source": [
    "from keras.models import Sequential\n",
    "from keras.layers import Dense, Dropout, Activation\n",
    "from keras.layers import LSTM"
   ]
  },
  {
   "cell_type": "code",
   "execution_count": 4,
   "metadata": {},
   "outputs": [
    {
     "data": {
      "text/html": [
       "<div>\n",
       "<style scoped>\n",
       "    .dataframe tbody tr th:only-of-type {\n",
       "        vertical-align: middle;\n",
       "    }\n",
       "\n",
       "    .dataframe tbody tr th {\n",
       "        vertical-align: top;\n",
       "    }\n",
       "\n",
       "    .dataframe thead th {\n",
       "        text-align: right;\n",
       "    }\n",
       "</style>\n",
       "<table border=\"1\" class=\"dataframe\">\n",
       "  <thead>\n",
       "    <tr style=\"text-align: right;\">\n",
       "      <th></th>\n",
       "      <th>Date</th>\n",
       "      <th>Open</th>\n",
       "      <th>High</th>\n",
       "      <th>Low</th>\n",
       "      <th>Close</th>\n",
       "      <th>Adj Close</th>\n",
       "      <th>Volume</th>\n",
       "    </tr>\n",
       "  </thead>\n",
       "  <tbody>\n",
       "    <tr>\n",
       "      <td>0</td>\n",
       "      <td>2014-07-01</td>\n",
       "      <td>41.860001</td>\n",
       "      <td>42.150002</td>\n",
       "      <td>41.689999</td>\n",
       "      <td>41.869999</td>\n",
       "      <td>37.121700</td>\n",
       "      <td>26917000</td>\n",
       "    </tr>\n",
       "    <tr>\n",
       "      <td>1</td>\n",
       "      <td>2014-07-02</td>\n",
       "      <td>41.730000</td>\n",
       "      <td>41.900002</td>\n",
       "      <td>41.529999</td>\n",
       "      <td>41.900002</td>\n",
       "      <td>37.148304</td>\n",
       "      <td>20208100</td>\n",
       "    </tr>\n",
       "    <tr>\n",
       "      <td>2</td>\n",
       "      <td>2014-07-03</td>\n",
       "      <td>41.910000</td>\n",
       "      <td>41.990002</td>\n",
       "      <td>41.560001</td>\n",
       "      <td>41.799999</td>\n",
       "      <td>37.059635</td>\n",
       "      <td>15969300</td>\n",
       "    </tr>\n",
       "    <tr>\n",
       "      <td>3</td>\n",
       "      <td>2014-07-07</td>\n",
       "      <td>41.750000</td>\n",
       "      <td>42.119999</td>\n",
       "      <td>41.709999</td>\n",
       "      <td>41.990002</td>\n",
       "      <td>37.228085</td>\n",
       "      <td>21952400</td>\n",
       "    </tr>\n",
       "    <tr>\n",
       "      <td>4</td>\n",
       "      <td>2014-07-08</td>\n",
       "      <td>41.869999</td>\n",
       "      <td>42.000000</td>\n",
       "      <td>41.610001</td>\n",
       "      <td>41.779999</td>\n",
       "      <td>37.041901</td>\n",
       "      <td>31218200</td>\n",
       "    </tr>\n",
       "  </tbody>\n",
       "</table>\n",
       "</div>"
      ],
      "text/plain": [
       "         Date       Open       High        Low      Close  Adj Close    Volume\n",
       "0  2014-07-01  41.860001  42.150002  41.689999  41.869999  37.121700  26917000\n",
       "1  2014-07-02  41.730000  41.900002  41.529999  41.900002  37.148304  20208100\n",
       "2  2014-07-03  41.910000  41.990002  41.560001  41.799999  37.059635  15969300\n",
       "3  2014-07-07  41.750000  42.119999  41.709999  41.990002  37.228085  21952400\n",
       "4  2014-07-08  41.869999  42.000000  41.610001  41.779999  37.041901  31218200"
      ]
     },
     "execution_count": 4,
     "metadata": {},
     "output_type": "execute_result"
    }
   ],
   "source": [
    "MSFT.head()"
   ]
  },
  {
   "cell_type": "code",
   "execution_count": 5,
   "metadata": {},
   "outputs": [],
   "source": [
    "window = 100\n",
    "data1 = []\n",
    "data2 = []\n",
    "data3 = []\n",
    "y_data=[]\n",
    "for i in range(MSFT.shape[0] - window - 1):\n",
    "    data1.append(np.array(MSFT.iloc[i:i+window, 5]) / MSFT.iloc[i, 5])\n",
    "    data2.append(np.array(AAPL.iloc[i:i+window, 5]) / AAPL.iloc[i, 5])\n",
    "    data3.append(np.array(GOOGL.iloc[i:i+window, 5]) / GOOGL.iloc[i, 5])\n",
    "    y_data.append(np.array(MSFT.iloc[i+window+1, 5]) / MSFT.iloc[i, 5])\n",
    "    "
   ]
  },
  {
   "cell_type": "code",
   "execution_count": 6,
   "metadata": {},
   "outputs": [],
   "source": [
    "data4=[]\n",
    "for i in range(len(data1)):\n",
    "    data4.append(np.transpose(np.array([data1[i],data2[i],data3[i]])))"
   ]
  },
  {
   "cell_type": "code",
   "execution_count": 7,
   "metadata": {},
   "outputs": [
    {
     "data": {
      "text/plain": [
       "(1157, 100)"
      ]
     },
     "execution_count": 7,
     "metadata": {},
     "output_type": "execute_result"
    }
   ],
   "source": [
    "np.array(data1).shape"
   ]
  },
  {
   "cell_type": "code",
   "execution_count": 8,
   "metadata": {},
   "outputs": [
    {
     "data": {
      "text/plain": [
       "(1157, 100, 3)"
      ]
     },
     "execution_count": 8,
     "metadata": {},
     "output_type": "execute_result"
    }
   ],
   "source": [
    "np.array(data4).shape"
   ]
  },
  {
   "cell_type": "code",
   "execution_count": 9,
   "metadata": {},
   "outputs": [],
   "source": [
    "train_size = int(0.9 * len(data4))\n",
    "x_train = np.array(data4[:train_size])\n",
    "x_test = np.array(data4[train_size:])\n",
    "y_train=np.array(y_data[:train_size])\n",
    "y_test=np.array(y_data[train_size:])\n",
    "np.random.seed(2019)\n",
    "np.random.shuffle(x_train)\n",
    "np.random.seed(2019)\n",
    "np.random.shuffle(y_train)\n",
    "#x_train = np.reshape(x_train, (x_train.shape[0], x_train.shape[1], 1))\n",
    "#x_test = np.reshape(x_test, (x_test.shape[0], x_test.shape[1], 1))"
   ]
  },
  {
   "cell_type": "code",
   "execution_count": 10,
   "metadata": {},
   "outputs": [],
   "source": [
    "x_train = np.reshape(x_train, (x_train.shape[0], x_train.shape[1], 3))\n",
    "x_test = np.reshape(x_test, (x_test.shape[0], x_test.shape[1], 3))"
   ]
  },
  {
   "cell_type": "code",
   "execution_count": 11,
   "metadata": {},
   "outputs": [],
   "source": [
    "def build_model(layers):\n",
    "    model = Sequential()\n",
    "\n",
    "    model.add(LSTM(input_shape = (layers[1], layers[0]), output_dim = layers[1], return_sequences = True))\n",
    "    model.add(Dropout(0.2))\n",
    "\n",
    "    model.add(LSTM(layers[2], return_sequences = False))\n",
    "    model.add(Dropout(0.2))\n",
    "\n",
    "    model.add(Dense(output_dim = layers[3]))\n",
    "    model.add(Activation(\"linear\"))\n",
    "\n",
    "    model.compile(loss = \"mse\", optimizer = \"adam\")\n",
    "    return model"
   ]
  },
  {
   "cell_type": "code",
   "execution_count": 12,
   "metadata": {},
   "outputs": [
    {
     "name": "stderr",
     "output_type": "stream",
     "text": [
      "C:\\Users\\DidaFENG\\Anaconda3\\lib\\site-packages\\ipykernel_launcher.py:4: UserWarning: Update your `LSTM` call to the Keras 2 API: `LSTM(input_shape=(100, 3), return_sequences=True, units=100)`\n",
      "  after removing the cwd from sys.path.\n",
      "C:\\Users\\DidaFENG\\Anaconda3\\lib\\site-packages\\ipykernel_launcher.py:10: UserWarning: Update your `Dense` call to the Keras 2 API: `Dense(units=1)`\n",
      "  # Remove the CWD from sys.path while we load stuff.\n"
     ]
    }
   ],
   "source": [
    "model = build_model([3, 100, 500, 1])"
   ]
  },
  {
   "cell_type": "code",
   "execution_count": null,
   "metadata": {},
   "outputs": [
    {
     "name": "stdout",
     "output_type": "stream",
     "text": [
      "Train on 936 samples, validate on 105 samples\n",
      "Epoch 1/20\n",
      "936/936 [==============================] - 29s 31ms/step - loss: 0.3685 - val_loss: 0.0084\n",
      "Epoch 2/20\n",
      "936/936 [==============================] - 27s 29ms/step - loss: 0.0237 - val_loss: 0.0149\n",
      "Epoch 3/20\n",
      "936/936 [==============================] - 28s 30ms/step - loss: 0.0101 - val_loss: 0.0090\n",
      "Epoch 4/20\n",
      "936/936 [==============================] - 28s 30ms/step - loss: 0.0069 - val_loss: 0.0047\n",
      "Epoch 5/20\n",
      "936/936 [==============================] - 28s 30ms/step - loss: 0.0063 - val_loss: 0.0041\n",
      "Epoch 6/20\n",
      "936/936 [==============================] - 28s 30ms/step - loss: 0.0054 - val_loss: 0.0037\n",
      "Epoch 7/20\n",
      "936/936 [==============================] - 29s 31ms/step - loss: 0.0052 - val_loss: 0.0034\n",
      "Epoch 8/20\n",
      "936/936 [==============================] - 29s 31ms/step - loss: 0.0049 - val_loss: 0.0031\n",
      "Epoch 9/20\n",
      "936/936 [==============================] - 29s 31ms/step - loss: 0.0051 - val_loss: 0.0030\n",
      "Epoch 10/20\n",
      "936/936 [==============================] - 29s 31ms/step - loss: 0.0047 - val_loss: 0.0029\n",
      "Epoch 11/20\n",
      "936/936 [==============================] - 29s 31ms/step - loss: 0.0044 - val_loss: 0.0023\n",
      "Epoch 12/20\n",
      "936/936 [==============================] - 29s 31ms/step - loss: 0.0039 - val_loss: 0.0019\n",
      "Epoch 13/20\n",
      "936/936 [==============================] - 29s 31ms/step - loss: 0.0035 - val_loss: 0.0016\n",
      "Epoch 14/20\n",
      "936/936 [==============================] - 29s 31ms/step - loss: 0.0036 - val_loss: 0.0014\n",
      "Epoch 15/20\n",
      "936/936 [==============================] - 29s 31ms/step - loss: 0.0033 - val_loss: 0.0015\n",
      "Epoch 16/20\n",
      "936/936 [==============================] - 26s 28ms/step - loss: 0.0035 - val_loss: 0.0014\n",
      "Epoch 17/20\n",
      "936/936 [==============================] - 27s 29ms/step - loss: 0.0031 - val_loss: 0.0013\n",
      "Epoch 18/20\n",
      "832/936 [=========================>....] - ETA: 2s - loss: 0.0031"
     ]
    }
   ],
   "source": [
    "model.fit(x_train, y_train, batch_size = 64, epochs = 20, validation_split = 0.1, verbose = 1)"
   ]
  },
  {
   "cell_type": "code",
   "execution_count": null,
   "metadata": {},
   "outputs": [],
   "source": [
    "train_score = model.evaluate(x_train, y_train, verbose=0)\n",
    "print('Train Score: %.4f MSE (%.4f RMSE)' % (train_score, np.sqrt(train_score)))\n",
    "test_score = model.evaluate(x_test, y_test, verbose=0)\n",
    "print('Test Score: %.4f MSE (%.4f RMSE)' % (test_score, np.sqrt(test_score)))"
   ]
  },
  {
   "cell_type": "code",
   "execution_count": null,
   "metadata": {},
   "outputs": [],
   "source": [
    "y_pred = model.predict(x_test)"
   ]
  },
  {
   "cell_type": "code",
   "execution_count": null,
   "metadata": {},
   "outputs": [],
   "source": [
    "import matplotlib.pyplot as plt\n",
    "\n",
    "plt.plot(y_pred, color = 'red', label = 'prediction')\n",
    "plt.plot(y_test, color = 'blue', label = 'true value')\n",
    "plt.legend()\n",
    "plt.show()"
   ]
  },
  {
   "cell_type": "code",
   "execution_count": null,
   "metadata": {},
   "outputs": [],
   "source": [
    "y_test_diff = (y_test[1:] - y_test[:-1] > 0).astype(int)\n",
    "y_pred_diff = (y_pred[1:,0] - y_pred[:-1,0] > 0).astype(int)"
   ]
  },
  {
   "cell_type": "code",
   "execution_count": null,
   "metadata": {},
   "outputs": [],
   "source": [
    "from sklearn import metrics\n",
    "\n",
    "print('confusion matrix:')\n",
    "print(metrics.confusion_matrix(y_test_diff, y_pred_diff))\n",
    "print(' accuracy :', metrics.accuracy_score(y_test_diff, y_pred_diff))\n",
    "print('precision :', metrics.precision_score(y_test_diff, y_pred_diff))\n",
    "print('   recall :', metrics.recall_score(y_test_diff, y_pred_diff))"
   ]
  },
  {
   "cell_type": "code",
   "execution_count": null,
   "metadata": {},
   "outputs": [],
   "source": [
    "model.summary()"
   ]
  },
  {
   "cell_type": "markdown",
   "metadata": {},
   "source": [
    "(1). The target ticker is MSFT. <br/>\n",
    "(2). I chose AAPL, GOOGL and MSFT to explain target ticker. <br/>\n",
    "(3). I set window as 100 days and used 3 tickers. So my input is a $3\\times100$ matrix. The first layer is LTSM layer as input layer and the second layer with 500 neurons as hidden layer. I also used the Dense layer as my output layer.<br/>\n",
    "(4). I have 1244101 free parameters. <br/>\n",
    "(5). Linear function to train model. <br/>\n",
    "(6). Adam, an algorithm for first-order gradient-based optimization of stochastic objective functions, based on adaptive estimates of lower-order moments. <br/>\n",
    "(7). See the graph above.<br/>"
   ]
  },
  {
   "cell_type": "code",
   "execution_count": null,
   "metadata": {},
   "outputs": [],
   "source": []
  }
 ],
 "metadata": {
  "kernelspec": {
   "display_name": "Python 3",
   "language": "python",
   "name": "python3"
  },
  "language_info": {
   "codemirror_mode": {
    "name": "ipython",
    "version": 3
   },
   "file_extension": ".py",
   "mimetype": "text/x-python",
   "name": "python",
   "nbconvert_exporter": "python",
   "pygments_lexer": "ipython3",
   "version": "3.7.4"
  }
 },
 "nbformat": 4,
 "nbformat_minor": 2
}
