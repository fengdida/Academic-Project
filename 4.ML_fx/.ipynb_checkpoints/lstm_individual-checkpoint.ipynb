{
 "cells": [
  {
   "cell_type": "code",
   "execution_count": 9,
   "metadata": {},
   "outputs": [],
   "source": [
    "import numpy as np\n",
    "import pandas as pd"
   ]
  },
  {
   "cell_type": "code",
   "execution_count": 10,
   "metadata": {},
   "outputs": [],
   "source": [
    "import yahoo_historical\n",
    "MSFT = yahoo_historical.Fetcher('MSFT', [2014, 7, 1], [2019, 7, 1]).getHistorical()\n",
    "AAPL = yahoo_historical.Fetcher('AAPL', [2014, 7, 1], [2019, 7, 1]).getHistorical()\n",
    "GOOGL = yahoo_historical.Fetcher('GOOGL', [2014, 7, 1], [2019, 7, 1]).getHistorical()"
   ]
  },
  {
   "cell_type": "code",
   "execution_count": 11,
   "metadata": {},
   "outputs": [],
   "source": [
    "from keras.models import Sequential\n",
    "from keras.layers import Dense, Dropout, Activation\n",
    "from keras.layers import LSTM"
   ]
  },
  {
   "cell_type": "code",
   "execution_count": 12,
   "metadata": {},
   "outputs": [
    {
     "data": {
      "text/html": [
       "<div>\n",
       "<style scoped>\n",
       "    .dataframe tbody tr th:only-of-type {\n",
       "        vertical-align: middle;\n",
       "    }\n",
       "\n",
       "    .dataframe tbody tr th {\n",
       "        vertical-align: top;\n",
       "    }\n",
       "\n",
       "    .dataframe thead th {\n",
       "        text-align: right;\n",
       "    }\n",
       "</style>\n",
       "<table border=\"1\" class=\"dataframe\">\n",
       "  <thead>\n",
       "    <tr style=\"text-align: right;\">\n",
       "      <th></th>\n",
       "      <th>Date</th>\n",
       "      <th>Open</th>\n",
       "      <th>High</th>\n",
       "      <th>Low</th>\n",
       "      <th>Close</th>\n",
       "      <th>Adj Close</th>\n",
       "      <th>Volume</th>\n",
       "    </tr>\n",
       "  </thead>\n",
       "  <tbody>\n",
       "    <tr>\n",
       "      <th>0</th>\n",
       "      <td>2014-07-01</td>\n",
       "      <td>41.860001</td>\n",
       "      <td>42.150002</td>\n",
       "      <td>41.689999</td>\n",
       "      <td>41.869999</td>\n",
       "      <td>36.917759</td>\n",
       "      <td>26917000</td>\n",
       "    </tr>\n",
       "    <tr>\n",
       "      <th>1</th>\n",
       "      <td>2014-07-02</td>\n",
       "      <td>41.730000</td>\n",
       "      <td>41.900002</td>\n",
       "      <td>41.529999</td>\n",
       "      <td>41.900002</td>\n",
       "      <td>36.944218</td>\n",
       "      <td>20208100</td>\n",
       "    </tr>\n",
       "    <tr>\n",
       "      <th>2</th>\n",
       "      <td>2014-07-03</td>\n",
       "      <td>41.910000</td>\n",
       "      <td>41.990002</td>\n",
       "      <td>41.560001</td>\n",
       "      <td>41.799999</td>\n",
       "      <td>36.856037</td>\n",
       "      <td>15969300</td>\n",
       "    </tr>\n",
       "    <tr>\n",
       "      <th>3</th>\n",
       "      <td>2014-07-07</td>\n",
       "      <td>41.750000</td>\n",
       "      <td>42.119999</td>\n",
       "      <td>41.709999</td>\n",
       "      <td>41.990002</td>\n",
       "      <td>37.023575</td>\n",
       "      <td>21952400</td>\n",
       "    </tr>\n",
       "    <tr>\n",
       "      <th>4</th>\n",
       "      <td>2014-07-08</td>\n",
       "      <td>41.869999</td>\n",
       "      <td>42.000000</td>\n",
       "      <td>41.610001</td>\n",
       "      <td>41.779999</td>\n",
       "      <td>36.838398</td>\n",
       "      <td>31218200</td>\n",
       "    </tr>\n",
       "  </tbody>\n",
       "</table>\n",
       "</div>"
      ],
      "text/plain": [
       "         Date       Open       High        Low      Close  Adj Close    Volume\n",
       "0  2014-07-01  41.860001  42.150002  41.689999  41.869999  36.917759  26917000\n",
       "1  2014-07-02  41.730000  41.900002  41.529999  41.900002  36.944218  20208100\n",
       "2  2014-07-03  41.910000  41.990002  41.560001  41.799999  36.856037  15969300\n",
       "3  2014-07-07  41.750000  42.119999  41.709999  41.990002  37.023575  21952400\n",
       "4  2014-07-08  41.869999  42.000000  41.610001  41.779999  36.838398  31218200"
      ]
     },
     "execution_count": 12,
     "metadata": {},
     "output_type": "execute_result"
    }
   ],
   "source": [
    "MSFT.head()"
   ]
  },
  {
   "cell_type": "code",
   "execution_count": 13,
   "metadata": {},
   "outputs": [],
   "source": [
    "window = 100\n",
    "data1 = []\n",
    "data2 = []\n",
    "data3 = []\n",
    "y_data=[]\n",
    "for i in range(MSFT.shape[0] - window - 1):\n",
    "    data1.append(np.array(MSFT.iloc[i:i+window, 5]) / MSFT.iloc[i, 5])\n",
    "    data2.append(np.array(AAPL.iloc[i:i+window, 5]) / AAPL.iloc[i, 5])\n",
    "    data3.append(np.array(GOOGL.iloc[i:i+window, 5]) / GOOGL.iloc[i, 5])\n",
    "    y_data.append(np.array(MSFT.iloc[i+window+1, 5]) / MSFT.iloc[i, 5])\n",
    "    "
   ]
  },
  {
   "cell_type": "code",
   "execution_count": 14,
   "metadata": {},
   "outputs": [],
   "source": [
    "data4=[]\n",
    "for i in range(len(data1)):\n",
    "    data4.append(np.transpose(np.array([data1[i],data2[i],data3[i]])))"
   ]
  },
  {
   "cell_type": "code",
   "execution_count": 15,
   "metadata": {},
   "outputs": [
    {
     "data": {
      "text/plain": [
       "(1157, 100)"
      ]
     },
     "execution_count": 15,
     "metadata": {},
     "output_type": "execute_result"
    }
   ],
   "source": [
    "np.array(data1).shape"
   ]
  },
  {
   "cell_type": "code",
   "execution_count": 16,
   "metadata": {},
   "outputs": [
    {
     "data": {
      "text/plain": [
       "(1157, 100, 3)"
      ]
     },
     "execution_count": 16,
     "metadata": {},
     "output_type": "execute_result"
    }
   ],
   "source": [
    "np.array(data4).shape"
   ]
  },
  {
   "cell_type": "code",
   "execution_count": 17,
   "metadata": {},
   "outputs": [],
   "source": [
    "train_size = int(0.9 * len(data4))\n",
    "x_train = np.array(data4[:train_size])\n",
    "x_test = np.array(data4[train_size:])\n",
    "y_train=np.array(y_data[:train_size])\n",
    "y_test=np.array(y_data[train_size:])\n",
    "np.random.seed(2019)\n",
    "np.random.shuffle(x_train)\n",
    "np.random.seed(2019)\n",
    "np.random.shuffle(y_train)\n",
    "#x_train = np.reshape(x_train, (x_train.shape[0], x_train.shape[1], 1))\n",
    "#x_test = np.reshape(x_test, (x_test.shape[0], x_test.shape[1], 1))"
   ]
  },
  {
   "cell_type": "code",
   "execution_count": 18,
   "metadata": {},
   "outputs": [],
   "source": [
    "x_train = np.reshape(x_train, (x_train.shape[0], x_train.shape[1], 3))\n",
    "x_test = np.reshape(x_test, (x_test.shape[0], x_test.shape[1], 3))"
   ]
  },
  {
   "cell_type": "code",
   "execution_count": 29,
   "metadata": {},
   "outputs": [],
   "source": [
    "def build_model(layers):\n",
    "    model = Sequential()\n",
    "\n",
    "    model.add(LSTM(layers[1],input_shape = (layers[1], layers[0]), return_sequences = True))\n",
    "    model.add(Dropout(0.2))\n",
    "\n",
    "    model.add(LSTM(layers[2], return_sequences = False))\n",
    "    model.add(Dropout(0.2))\n",
    "\n",
    "    model.add(Dense(layers[3]))\n",
    "    model.add(Activation(\"linear\"))\n",
    "\n",
    "    model.compile(loss = \"mse\", optimizer = \"adam\")\n",
    "    return model"
   ]
  },
  {
   "cell_type": "code",
   "execution_count": 30,
   "metadata": {},
   "outputs": [],
   "source": [
    "model = build_model([3, 100, 500, 1])"
   ]
  },
  {
   "cell_type": "code",
   "execution_count": 31,
   "metadata": {},
   "outputs": [
    {
     "name": "stdout",
     "output_type": "stream",
     "text": [
      "Epoch 1/20\n",
      "15/15 [==============================] - 6s 423ms/step - loss: 0.2807 - val_loss: 0.0082\n",
      "Epoch 2/20\n",
      "15/15 [==============================] - 6s 393ms/step - loss: 0.0170 - val_loss: 0.0046\n",
      "Epoch 3/20\n",
      "15/15 [==============================] - 6s 392ms/step - loss: 0.0080 - val_loss: 0.0044\n",
      "Epoch 4/20\n",
      "15/15 [==============================] - 6s 395ms/step - loss: 0.0057 - val_loss: 0.0041\n",
      "Epoch 5/20\n",
      "15/15 [==============================] - 6s 395ms/step - loss: 0.0053 - val_loss: 0.0032\n",
      "Epoch 6/20\n",
      "15/15 [==============================] - 6s 394ms/step - loss: 0.0048 - val_loss: 0.0028\n",
      "Epoch 7/20\n",
      "15/15 [==============================] - 6s 396ms/step - loss: 0.0044 - val_loss: 0.0027\n",
      "Epoch 8/20\n",
      "15/15 [==============================] - 6s 398ms/step - loss: 0.0041 - val_loss: 0.0022\n",
      "Epoch 9/20\n",
      "15/15 [==============================] - 6s 400ms/step - loss: 0.0040 - val_loss: 0.0021\n",
      "Epoch 10/20\n",
      "15/15 [==============================] - 6s 398ms/step - loss: 0.0038 - val_loss: 0.0017\n",
      "Epoch 11/20\n",
      "15/15 [==============================] - 6s 397ms/step - loss: 0.0037 - val_loss: 0.0015\n",
      "Epoch 12/20\n",
      "15/15 [==============================] - 7s 452ms/step - loss: 0.0036 - val_loss: 0.0015\n",
      "Epoch 13/20\n",
      "15/15 [==============================] - 7s 438ms/step - loss: 0.0031 - val_loss: 0.0014\n",
      "Epoch 14/20\n",
      "15/15 [==============================] - 6s 420ms/step - loss: 0.0032 - val_loss: 0.0017\n",
      "Epoch 15/20\n",
      "15/15 [==============================] - 6s 410ms/step - loss: 0.0032 - val_loss: 0.0014\n",
      "Epoch 16/20\n",
      "15/15 [==============================] - 6s 406ms/step - loss: 0.0035 - val_loss: 0.0017\n",
      "Epoch 17/20\n",
      "15/15 [==============================] - 6s 405ms/step - loss: 0.0031 - val_loss: 0.0013\n",
      "Epoch 18/20\n",
      "15/15 [==============================] - 6s 407ms/step - loss: 0.0030 - val_loss: 0.0012\n",
      "Epoch 19/20\n",
      "15/15 [==============================] - 6s 408ms/step - loss: 0.0030 - val_loss: 0.0015\n",
      "Epoch 20/20\n",
      "15/15 [==============================] - 6s 409ms/step - loss: 0.0027 - val_loss: 0.0013\n"
     ]
    },
    {
     "data": {
      "text/plain": [
       "<tensorflow.python.keras.callbacks.History at 0x1b32809c588>"
      ]
     },
     "execution_count": 31,
     "metadata": {},
     "output_type": "execute_result"
    }
   ],
   "source": [
    "model.fit(x_train, y_train, batch_size = 64, epochs = 20, validation_split = 0.1, verbose = 1)"
   ]
  },
  {
   "cell_type": "code",
   "execution_count": 32,
   "metadata": {},
   "outputs": [
    {
     "name": "stdout",
     "output_type": "stream",
     "text": [
      "Train Score: 0.0012 MSE (0.0343 RMSE)\n",
      "Test Score: 0.0014 MSE (0.0369 RMSE)\n"
     ]
    }
   ],
   "source": [
    "train_score = model.evaluate(x_train, y_train, verbose=0)\n",
    "print('Train Score: %.4f MSE (%.4f RMSE)' % (train_score, np.sqrt(train_score)))\n",
    "test_score = model.evaluate(x_test, y_test, verbose=0)\n",
    "print('Test Score: %.4f MSE (%.4f RMSE)' % (test_score, np.sqrt(test_score)))"
   ]
  },
  {
   "cell_type": "code",
   "execution_count": 33,
   "metadata": {},
   "outputs": [],
   "source": [
    "y_pred = model.predict(x_test)"
   ]
  },
  {
   "cell_type": "code",
   "execution_count": 34,
   "metadata": {},
   "outputs": [
    {
     "data": {
      "image/png": "[encoded data removed]",
      "text/plain": [
       "<Figure size 432x288 with 1 Axes>"
      ]
     },
     "metadata": {
      "needs_background": "light"
     },
     "output_type": "display_data"
    }
   ],
   "source": [
    "import matplotlib.pyplot as plt\n",
    "\n",
    "plt.plot(y_pred, color = 'red', label = 'prediction')\n",
    "plt.plot(y_test, color = 'blue', label = 'true value')\n",
    "plt.legend()\n",
    "plt.show()"
   ]
  },
  {
   "cell_type": "code",
   "execution_count": 35,
   "metadata": {},
   "outputs": [],
   "source": [
    "y_test_diff = (y_test[1:] - y_test[:-1] > 0).astype(int)\n",
    "y_pred_diff = (y_pred[1:,0] - y_pred[:-1,0] > 0).astype(int)"
   ]
  },
  {
   "cell_type": "code",
   "execution_count": 36,
   "metadata": {},
   "outputs": [
    {
     "name": "stdout",
     "output_type": "stream",
     "text": [
      "confusion matrix:\n",
      "[[42  7]\n",
      " [13 53]]\n",
      " accuracy : 0.8260869565217391\n",
      "precision : 0.8833333333333333\n",
      "   recall : 0.803030303030303\n"
     ]
    }
   ],
   "source": [
    "from sklearn import metrics\n",
    "\n",
    "print('confusion matrix:')\n",
    "print(metrics.confusion_matrix(y_test_diff, y_pred_diff))\n",
    "print(' accuracy :', metrics.accuracy_score(y_test_diff, y_pred_diff))\n",
    "print('precision :', metrics.precision_score(y_test_diff, y_pred_diff))\n",
    "print('   recall :', metrics.recall_score(y_test_diff, y_pred_diff))"
   ]
  },
  {
   "cell_type": "code",
   "execution_count": 37,
   "metadata": {},
   "outputs": [
    {
     "name": "stdout",
     "output_type": "stream",
     "text": [
      "Model: \"sequential_5\"\n",
      "_________________________________________________________________\n",
      "Layer (type)                 Output Shape              Param #   \n",
      "=================================================================\n",
      "lstm_3 (LSTM)                (None, 100, 100)          41600     \n",
      "_________________________________________________________________\n",
      "dropout_3 (Dropout)          (None, 100, 100)          0         \n",
      "_________________________________________________________________\n",
      "lstm_4 (LSTM)                (None, 500)               1202000   \n",
      "_________________________________________________________________\n",
      "dropout_4 (Dropout)          (None, 500)               0         \n",
      "_________________________________________________________________\n",
      "dense (Dense)                (None, 1)                 501       \n",
      "_________________________________________________________________\n",
      "activation (Activation)      (None, 1)                 0         \n",
      "=================================================================\n",
      "Total params: 1,244,101\n",
      "Trainable params: 1,244,101\n",
      "Non-trainable params: 0\n",
      "_________________________________________________________________\n"
     ]
    }
   ],
   "source": [
    "model.summary()"
   ]
  },
  {
   "cell_type": "markdown",
   "metadata": {},
   "source": [
    "(1). The target ticker is MSFT. <br/>\n",
    "(2). I chose AAPL, GOOGL and MSFT to explain target ticker. <br/>\n",
    "(3). I set window as 100 days and used 3 tickers. So my input is a $3\\times100$ matrix. The first layer is LTSM layer as input layer and the second layer with 500 neurons as hidden layer. I also used the Dense layer as my output layer.<br/>\n",
    "(4). I have 1244101 free parameters. <br/>\n",
    "(5). Linear function to train model. <br/>\n",
    "(6). Adam, an algorithm for first-order gradient-based optimization of stochastic objective functions, based on adaptive estimates of lower-order moments. <br/>\n",
    "(7). See the graph above.<br/>"
   ]
  },
  {
   "cell_type": "code",
   "execution_count": null,
   "metadata": {},
   "outputs": [],
   "source": []
  }
 ],
 "metadata": {
  "kernelspec": {
   "display_name": "Python 3",
   "language": "python",
   "name": "python3"
  },
  "language_info": {
   "codemirror_mode": {
    "name": "ipython",
    "version": 3
   },
   "file_extension": ".py",
   "mimetype": "text/x-python",
   "name": "python",
   "nbconvert_exporter": "python",
   "pygments_lexer": "ipython3",
   "version": "3.7.6"
  }
 },
 "nbformat": 4,
 "nbformat_minor": 2
}
